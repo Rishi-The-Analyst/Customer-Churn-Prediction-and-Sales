{
 "cells": [
  {
   "cell_type": "markdown",
   "id": "6fa92422-4af4-4b96-99d7-8798282d5f23",
   "metadata": {},
   "source": [
    "# Customer Churn Prediction and Sales\n",
    "<div style=\"text-align: right;\">\n",
    "<h4>By Rishikesh M R and team (Group 9)\n",
    "</div>"
   ]
  },
  {
   "cell_type": "markdown",
   "id": "73e39d5f-b5ab-4a77-b75c-71a2ac14e430",
   "metadata": {},
   "source": [
    "This Python Notebook focuses more on:\n",
    "* Understanding the data,\n",
    "* Exploratory Data Analysis,\n",
    "* Checking for null values/ duplicate values,\n",
    "* Cleaning the data, and\n",
    "* Creating visualizations out of it i.e. Conducting Univariate and Bivariate Analysis. "
   ]
  },
  {
   "cell_type": "markdown",
   "id": "de7d879c-ba6a-4319-a68b-195c59dc0c25",
   "metadata": {},
   "source": [
    "### Importing required libraries"
   ]
  },
  {
   "cell_type": "code",
   "execution_count": 21,
   "id": "fb126b7e-032e-49ca-a186-103f89ade444",
   "metadata": {},
   "outputs": [],
   "source": [
    "# importing the libraries\n",
    "import numpy as np\n",
    "import pandas as pd\n",
    "import matplotlib.pyplot as plt\n",
    "import seaborn as sns"
   ]
  },
  {
   "cell_type": "code",
   "execution_count": 22,
   "id": "f6704638-47ff-4002-b0e7-29729103f4be",
   "metadata": {},
   "outputs": [],
   "source": [
    "# Libraries required for data preprocessing\n",
    "from sklearn.impute import KNNImputer\n",
    "from sklearn.preprocessing import LabelEncoder, OneHotEncoder\n",
    "\n",
    "# Library required to split the data\n",
    "from sklearn.model_selection import train_test_split"
   ]
  },
  {
   "cell_type": "code",
   "execution_count": 22,
   "id": "82d382f9-53f0-4a33-ac7f-c2429685d2c7",
   "metadata": {
    "scrolled": true
   },
   "outputs": [
    {
     "name": "stdout",
     "output_type": "stream",
     "text": [
      "Collecting xgboost\n",
      "  Downloading xgboost-3.0.2-py3-none-win_amd64.whl.metadata (2.1 kB)\n",
      "Requirement already satisfied: numpy in c:\\users\\admin\\anaconda3\\lib\\site-packages (from xgboost) (1.26.4)\n",
      "Requirement already satisfied: scipy in c:\\users\\admin\\anaconda3\\lib\\site-packages (from xgboost) (1.13.1)\n",
      "Downloading xgboost-3.0.2-py3-none-win_amd64.whl (150.0 MB)\n",
      "   ---------------------------------------- 0.0/150.0 MB ? eta -:--:--\n",
      "    --------------------------------------- 3.4/150.0 MB 20.2 MB/s eta 0:00:08\n",
      "   --- ------------------------------------ 12.3/150.0 MB 32.2 MB/s eta 0:00:05\n",
      "   ----- ---------------------------------- 21.8/150.0 MB 36.2 MB/s eta 0:00:04\n",
      "   -------- ------------------------------- 32.8/150.0 MB 40.8 MB/s eta 0:00:03\n",
      "   ----------- ---------------------------- 44.8/150.0 MB 43.9 MB/s eta 0:00:03\n",
      "   -------------- ------------------------- 55.8/150.0 MB 45.6 MB/s eta 0:00:03\n",
      "   ---------------- ----------------------- 61.3/150.0 MB 43.4 MB/s eta 0:00:03\n",
      "   ----------------- ---------------------- 67.1/150.0 MB 40.7 MB/s eta 0:00:03\n",
      "   ------------------- -------------------- 72.4/150.0 MB 39.1 MB/s eta 0:00:02\n",
      "   -------------------- ------------------- 76.8/150.0 MB 37.4 MB/s eta 0:00:02\n",
      "   ---------------------- ----------------- 82.6/150.0 MB 36.1 MB/s eta 0:00:02\n",
      "   ----------------------- ---------------- 87.6/150.0 MB 34.9 MB/s eta 0:00:02\n",
      "   ------------------------ --------------- 93.3/150.0 MB 34.2 MB/s eta 0:00:02\n",
      "   -------------------------- ------------- 98.3/150.0 MB 33.9 MB/s eta 0:00:02\n",
      "   --------------------------- ----------- 104.9/150.0 MB 33.5 MB/s eta 0:00:02\n",
      "   ---------------------------- ---------- 111.4/150.0 MB 33.1 MB/s eta 0:00:02\n",
      "   ------------------------------ -------- 116.4/150.0 MB 32.6 MB/s eta 0:00:02\n",
      "   ------------------------------- ------- 121.4/150.0 MB 32.2 MB/s eta 0:00:01\n",
      "   -------------------------------- ------ 126.9/150.0 MB 31.8 MB/s eta 0:00:01\n",
      "   ---------------------------------- ---- 132.1/150.0 MB 31.5 MB/s eta 0:00:01\n",
      "   ------------------------------------ -- 138.7/150.0 MB 31.4 MB/s eta 0:00:01\n",
      "   ------------------------------------- - 144.2/150.0 MB 31.2 MB/s eta 0:00:01\n",
      "   --------------------------------------  149.7/150.0 MB 31.1 MB/s eta 0:00:01\n",
      "   --------------------------------------  149.9/150.0 MB 30.9 MB/s eta 0:00:01\n",
      "   --------------------------------------  149.9/150.0 MB 30.9 MB/s eta 0:00:01\n",
      "   --------------------------------------  149.9/150.0 MB 30.9 MB/s eta 0:00:01\n",
      "   --------------------------------------  149.9/150.0 MB 30.9 MB/s eta 0:00:01\n",
      "   --------------------------------------  149.9/150.0 MB 30.9 MB/s eta 0:00:01\n",
      "   --------------------------------------  149.9/150.0 MB 30.9 MB/s eta 0:00:01\n",
      "   --------------------------------------  149.9/150.0 MB 30.9 MB/s eta 0:00:01\n",
      "   --------------------------------------  149.9/150.0 MB 30.9 MB/s eta 0:00:01\n",
      "   --------------------------------------  149.9/150.0 MB 30.9 MB/s eta 0:00:01\n",
      "   --------------------------------------  149.9/150.0 MB 30.9 MB/s eta 0:00:01\n",
      "   --------------------------------------  149.9/150.0 MB 30.9 MB/s eta 0:00:01\n",
      "   --------------------------------------  149.9/150.0 MB 30.9 MB/s eta 0:00:01\n",
      "   --------------------------------------  149.9/150.0 MB 30.9 MB/s eta 0:00:01\n",
      "   --------------------------------------  149.9/150.0 MB 30.9 MB/s eta 0:00:01\n",
      "   --------------------------------------  149.9/150.0 MB 30.9 MB/s eta 0:00:01\n",
      "   --------------------------------------  149.9/150.0 MB 30.9 MB/s eta 0:00:01\n",
      "   --------------------------------------  149.9/150.0 MB 30.9 MB/s eta 0:00:01\n",
      "   --------------------------------------  149.9/150.0 MB 30.9 MB/s eta 0:00:01\n",
      "   --------------------------------------  149.9/150.0 MB 30.9 MB/s eta 0:00:01\n",
      "   --------------------------------------  149.9/150.0 MB 30.9 MB/s eta 0:00:01\n",
      "   --------------------------------------  149.9/150.0 MB 30.9 MB/s eta 0:00:01\n",
      "   --------------------------------------  149.9/150.0 MB 30.9 MB/s eta 0:00:01\n",
      "   --------------------------------------  149.9/150.0 MB 30.9 MB/s eta 0:00:01\n",
      "   --------------------------------------  149.9/150.0 MB 30.9 MB/s eta 0:00:01\n",
      "   --------------------------------------  149.9/150.0 MB 30.9 MB/s eta 0:00:01\n",
      "   --------------------------------------  149.9/150.0 MB 30.9 MB/s eta 0:00:01\n",
      "   --------------------------------------  149.9/150.0 MB 30.9 MB/s eta 0:00:01\n",
      "   --------------------------------------  149.9/150.0 MB 30.9 MB/s eta 0:00:01\n",
      "   --------------------------------------  149.9/150.0 MB 30.9 MB/s eta 0:00:01\n",
      "   --------------------------------------  149.9/150.0 MB 30.9 MB/s eta 0:00:01\n",
      "   --------------------------------------  149.9/150.0 MB 30.9 MB/s eta 0:00:01\n",
      "   --------------------------------------  149.9/150.0 MB 30.9 MB/s eta 0:00:01\n",
      "   --------------------------------------  149.9/150.0 MB 30.9 MB/s eta 0:00:01\n",
      "   --------------------------------------  149.9/150.0 MB 30.9 MB/s eta 0:00:01\n",
      "   --------------------------------------  149.9/150.0 MB 30.9 MB/s eta 0:00:01\n",
      "   --------------------------------------  149.9/150.0 MB 30.9 MB/s eta 0:00:01\n",
      "   --------------------------------------  149.9/150.0 MB 30.9 MB/s eta 0:00:01\n",
      "   --------------------------------------  149.9/150.0 MB 30.9 MB/s eta 0:00:01\n",
      "   --------------------------------------  149.9/150.0 MB 30.9 MB/s eta 0:00:01\n",
      "   --------------------------------------  149.9/150.0 MB 30.9 MB/s eta 0:00:01\n",
      "   --------------------------------------  149.9/150.0 MB 30.9 MB/s eta 0:00:01\n",
      "   --------------------------------------  149.9/150.0 MB 30.9 MB/s eta 0:00:01\n",
      "   --------------------------------------  149.9/150.0 MB 30.9 MB/s eta 0:00:01\n",
      "   --------------------------------------  149.9/150.0 MB 30.9 MB/s eta 0:00:01\n",
      "   --------------------------------------  149.9/150.0 MB 30.9 MB/s eta 0:00:01\n",
      "   --------------------------------------  149.9/150.0 MB 30.9 MB/s eta 0:00:01\n",
      "   --------------------------------------  149.9/150.0 MB 30.9 MB/s eta 0:00:01\n",
      "   --------------------------------------  149.9/150.0 MB 30.9 MB/s eta 0:00:01\n",
      "   --------------------------------------  149.9/150.0 MB 30.9 MB/s eta 0:00:01\n",
      "   --------------------------------------  149.9/150.0 MB 30.9 MB/s eta 0:00:01\n",
      "   --------------------------------------  149.9/150.0 MB 30.9 MB/s eta 0:00:01\n",
      "   --------------------------------------  149.9/150.0 MB 30.9 MB/s eta 0:00:01\n",
      "   --------------------------------------  149.9/150.0 MB 30.9 MB/s eta 0:00:01\n",
      "   --------------------------------------  149.9/150.0 MB 30.9 MB/s eta 0:00:01\n",
      "   --------------------------------------  149.9/150.0 MB 30.9 MB/s eta 0:00:01\n",
      "   --------------------------------------  149.9/150.0 MB 30.9 MB/s eta 0:00:01\n",
      "   --------------------------------------  149.9/150.0 MB 30.9 MB/s eta 0:00:01\n",
      "   --------------------------------------  149.9/150.0 MB 30.9 MB/s eta 0:00:01\n",
      "   --------------------------------------  149.9/150.0 MB 30.9 MB/s eta 0:00:01\n",
      "   --------------------------------------  149.9/150.0 MB 30.9 MB/s eta 0:00:01\n",
      "   --------------------------------------  149.9/150.0 MB 30.9 MB/s eta 0:00:01\n",
      "   --------------------------------------  149.9/150.0 MB 30.9 MB/s eta 0:00:01\n",
      "   --------------------------------------  149.9/150.0 MB 30.9 MB/s eta 0:00:01\n",
      "   --------------------------------------  149.9/150.0 MB 30.9 MB/s eta 0:00:01\n",
      "   --------------------------------------  149.9/150.0 MB 30.9 MB/s eta 0:00:01\n",
      "   --------------------------------------  149.9/150.0 MB 30.9 MB/s eta 0:00:01\n",
      "   --------------------------------------  149.9/150.0 MB 30.9 MB/s eta 0:00:01\n",
      "   --------------------------------------  149.9/150.0 MB 30.9 MB/s eta 0:00:01\n",
      "   --------------------------------------  149.9/150.0 MB 30.9 MB/s eta 0:00:01\n",
      "   --------------------------------------  149.9/150.0 MB 30.9 MB/s eta 0:00:01\n",
      "   --------------------------------------  149.9/150.0 MB 30.9 MB/s eta 0:00:01\n",
      "   --------------------------------------  149.9/150.0 MB 30.9 MB/s eta 0:00:01\n",
      "   --------------------------------------  149.9/150.0 MB 30.9 MB/s eta 0:00:01\n",
      "   --------------------------------------  149.9/150.0 MB 30.9 MB/s eta 0:00:01\n",
      "   --------------------------------------  149.9/150.0 MB 30.9 MB/s eta 0:00:01\n",
      "   --------------------------------------  149.9/150.0 MB 30.9 MB/s eta 0:00:01\n",
      "   --------------------------------------  149.9/150.0 MB 30.9 MB/s eta 0:00:01\n",
      "   --------------------------------------  149.9/150.0 MB 30.9 MB/s eta 0:00:01\n",
      "   --------------------------------------  149.9/150.0 MB 30.9 MB/s eta 0:00:01\n",
      "   --------------------------------------  149.9/150.0 MB 30.9 MB/s eta 0:00:01\n",
      "   --------------------------------------  149.9/150.0 MB 30.9 MB/s eta 0:00:01\n",
      "   --------------------------------------  149.9/150.0 MB 30.9 MB/s eta 0:00:01\n",
      "   --------------------------------------  149.9/150.0 MB 30.9 MB/s eta 0:00:01\n",
      "   --------------------------------------  149.9/150.0 MB 30.9 MB/s eta 0:00:01\n",
      "   --------------------------------------  149.9/150.0 MB 30.9 MB/s eta 0:00:01\n",
      "   --------------------------------------  149.9/150.0 MB 30.9 MB/s eta 0:00:01\n",
      "   --------------------------------------  149.9/150.0 MB 30.9 MB/s eta 0:00:01\n",
      "   --------------------------------------  149.9/150.0 MB 30.9 MB/s eta 0:00:01\n",
      "   --------------------------------------  149.9/150.0 MB 30.9 MB/s eta 0:00:01\n",
      "   --------------------------------------  149.9/150.0 MB 30.9 MB/s eta 0:00:01\n",
      "   --------------------------------------  149.9/150.0 MB 30.9 MB/s eta 0:00:01\n",
      "   --------------------------------------  149.9/150.0 MB 30.9 MB/s eta 0:00:01\n",
      "   --------------------------------------  149.9/150.0 MB 30.9 MB/s eta 0:00:01\n",
      "   --------------------------------------  149.9/150.0 MB 30.9 MB/s eta 0:00:01\n",
      "   --------------------------------------  149.9/150.0 MB 30.9 MB/s eta 0:00:01\n",
      "   --------------------------------------  149.9/150.0 MB 30.9 MB/s eta 0:00:01\n",
      "   --------------------------------------  149.9/150.0 MB 30.9 MB/s eta 0:00:01\n",
      "   --------------------------------------  149.9/150.0 MB 30.9 MB/s eta 0:00:01\n",
      "   --------------------------------------  149.9/150.0 MB 30.9 MB/s eta 0:00:01\n",
      "   --------------------------------------  149.9/150.0 MB 30.9 MB/s eta 0:00:01\n",
      "   --------------------------------------  149.9/150.0 MB 30.9 MB/s eta 0:00:01\n",
      "   --------------------------------------  149.9/150.0 MB 30.9 MB/s eta 0:00:01\n",
      "   --------------------------------------  149.9/150.0 MB 30.9 MB/s eta 0:00:01\n",
      "   --------------------------------------  149.9/150.0 MB 30.9 MB/s eta 0:00:01\n",
      "   --------------------------------------  149.9/150.0 MB 30.9 MB/s eta 0:00:01\n",
      "   --------------------------------------  149.9/150.0 MB 30.9 MB/s eta 0:00:01\n",
      "   --------------------------------------  149.9/150.0 MB 30.9 MB/s eta 0:00:01\n",
      "   --------------------------------------  149.9/150.0 MB 30.9 MB/s eta 0:00:01\n",
      "   --------------------------------------  149.9/150.0 MB 30.9 MB/s eta 0:00:01\n",
      "   --------------------------------------  149.9/150.0 MB 30.9 MB/s eta 0:00:01\n",
      "   --------------------------------------  149.9/150.0 MB 30.9 MB/s eta 0:00:01\n",
      "   --------------------------------------  149.9/150.0 MB 30.9 MB/s eta 0:00:01\n",
      "   --------------------------------------  149.9/150.0 MB 30.9 MB/s eta 0:00:01\n",
      "   --------------------------------------  149.9/150.0 MB 30.9 MB/s eta 0:00:01\n",
      "   --------------------------------------  149.9/150.0 MB 30.9 MB/s eta 0:00:01\n",
      "   --------------------------------------  149.9/150.0 MB 30.9 MB/s eta 0:00:01\n",
      "   --------------------------------------  149.9/150.0 MB 30.9 MB/s eta 0:00:01\n",
      "   --------------------------------------  149.9/150.0 MB 30.9 MB/s eta 0:00:01\n",
      "   --------------------------------------  149.9/150.0 MB 30.9 MB/s eta 0:00:01\n",
      "   --------------------------------------  149.9/150.0 MB 30.9 MB/s eta 0:00:01\n",
      "   --------------------------------------  149.9/150.0 MB 30.9 MB/s eta 0:00:01\n",
      "   --------------------------------------  149.9/150.0 MB 30.9 MB/s eta 0:00:01\n",
      "   --------------------------------------  149.9/150.0 MB 30.9 MB/s eta 0:00:01\n",
      "   --------------------------------------  149.9/150.0 MB 30.9 MB/s eta 0:00:01\n",
      "   --------------------------------------  149.9/150.0 MB 30.9 MB/s eta 0:00:01\n",
      "   --------------------------------------  149.9/150.0 MB 30.9 MB/s eta 0:00:01\n",
      "   --------------------------------------  149.9/150.0 MB 30.9 MB/s eta 0:00:01\n",
      "   --------------------------------------  149.9/150.0 MB 30.9 MB/s eta 0:00:01\n",
      "   --------------------------------------  149.9/150.0 MB 30.9 MB/s eta 0:00:01\n",
      "   --------------------------------------  149.9/150.0 MB 30.9 MB/s eta 0:00:01\n",
      "   --------------------------------------  149.9/150.0 MB 30.9 MB/s eta 0:00:01\n",
      "   --------------------------------------  149.9/150.0 MB 30.9 MB/s eta 0:00:01\n",
      "   --------------------------------------  149.9/150.0 MB 30.9 MB/s eta 0:00:01\n",
      "   --------------------------------------  149.9/150.0 MB 30.9 MB/s eta 0:00:01\n",
      "   --------------------------------------  149.9/150.0 MB 30.9 MB/s eta 0:00:01\n",
      "   --------------------------------------  149.9/150.0 MB 30.9 MB/s eta 0:00:01\n",
      "   --------------------------------------  149.9/150.0 MB 30.9 MB/s eta 0:00:01\n",
      "   --------------------------------------  149.9/150.0 MB 30.9 MB/s eta 0:00:01\n",
      "   --------------------------------------  149.9/150.0 MB 30.9 MB/s eta 0:00:01\n",
      "   --------------------------------------  149.9/150.0 MB 30.9 MB/s eta 0:00:01\n",
      "   --------------------------------------  149.9/150.0 MB 30.9 MB/s eta 0:00:01\n",
      "   --------------------------------------  149.9/150.0 MB 30.9 MB/s eta 0:00:01\n",
      "   --------------------------------------  149.9/150.0 MB 30.9 MB/s eta 0:00:01\n",
      "   ---------------------------------------- 150.0/150.0 MB ? eta 0:00:00\n",
      "Installing collected packages: xgboost\n",
      "Successfully installed xgboost-3.0.2\n"
     ]
    }
   ],
   "source": [
    "!pip install xgboost"
   ]
  },
  {
   "cell_type": "code",
   "execution_count": 23,
   "id": "946e2435-702e-4892-a0cf-174e2a8f4f2c",
   "metadata": {},
   "outputs": [],
   "source": [
    "# Libraries required to build models\n",
    "from sklearn.linear_model import LogisticRegression\n",
    "from sklearn.tree import DecisionTreeClassifier\n",
    "from sklearn.ensemble import (\n",
    "    BaggingClassifier,\n",
    "    RandomForestClassifier,\n",
    "    AdaBoostClassifier,\n",
    "    GradientBoostingClassifier,\n",
    "    StackingClassifier,\n",
    ")\n",
    "from xgboost import XGBClassifier\n",
    "\n",
    "# Libraries required for hyperparameter tuning\n",
    "from sklearn.model_selection import (\n",
    "    RandomizedSearchCV,\n",
    "    GridSearchCV,\n",
    "    cross_val_score,\n",
    "    StratifiedKFold,\n",
    ")\n",
    "\n",
    "# Libraries to get different metric scores\n",
    "# from sklearn import metrics\n",
    "from sklearn.metrics import (\n",
    "    accuracy_score,\n",
    "    recall_score,\n",
    "    precision_score,\n",
    "    f1_score,\n",
    "    confusion_matrix,\n",
    ")"
   ]
  },
  {
   "cell_type": "code",
   "execution_count": 24,
   "id": "796c0dc4-2890-4440-9af1-4b82a336a85c",
   "metadata": {},
   "outputs": [],
   "source": [
    "# Library required to suppress any warning messages\n",
    "\n",
    "import warnings\n",
    "\n",
    "warnings.filterwarnings(\"ignore\")\n",
    "\n",
    "# Libraries required for data analysis and visualization\n",
    "import pandas as pd\n",
    "import numpy as np\n",
    "import matplotlib.pyplot as plt\n",
    "\n",
    "%matplotlib inline\n",
    "import seaborn as sns\n",
    "\n",
    "sns.set(color_codes=True)  # adds background to the graph\n",
    "\n",
    "# Remove the limit for number of displayed rows and columns\n",
    "pd.set_option(\"display.max_rows\", 200)\n",
    "pd.set_option(\"display.max_columns\", None)\n",
    "\n",
    "# To suppress scientific notations for a dataframe\n",
    "pd.set_option(\"display.float_format\", lambda x: \"%.2f\" % x)"
   ]
  },
  {
   "cell_type": "markdown",
   "id": "a2065aa4-51e2-4b3d-b6e7-836b35e17610",
   "metadata": {},
   "source": [
    "### Loading the dataset"
   ]
  },
  {
   "cell_type": "markdown",
   "id": "d8032439-264d-4c93-a2b4-c5951016eba5",
   "metadata": {},
   "source": [
    "<b>Google drive of excel file for your reference</b>\n",
    "\n",
    "https://docs.google.com/spreadsheets/d/1x9gJUNZQ4cOQpgE_oZ8KIJXVcX3xWw9z/edit?usp=sharing&ouid=118278145072997996979&rtpof=true&sd=true"
   ]
  },
  {
   "cell_type": "code",
   "execution_count": 61,
   "id": "6649c05b-c9e6-4dbf-ade3-7a92ca38abba",
   "metadata": {},
   "outputs": [],
   "source": [
    "path = 'Customer_Churn_Data.xlsx'\n",
    "customer_churn_data = pd.read_excel(path, sheet_name=\"E_Comm_Data\",)\n",
    "customer_churn_column_data = pd.read_excel(path, sheet_name=\"Meta_Data\",)"
   ]
  },
  {
   "cell_type": "code",
   "execution_count": 29,
   "id": "4072f457-25dc-4f18-b86a-44986cacdb2c",
   "metadata": {},
   "outputs": [
    {
     "data": {
      "text/html": [
       "<div>\n",
       "<style scoped>\n",
       "    .dataframe tbody tr th:only-of-type {\n",
       "        vertical-align: middle;\n",
       "    }\n",
       "\n",
       "    .dataframe tbody tr th {\n",
       "        vertical-align: top;\n",
       "    }\n",
       "\n",
       "    .dataframe thead th {\n",
       "        text-align: right;\n",
       "    }\n",
       "</style>\n",
       "<table border=\"1\" class=\"dataframe\">\n",
       "  <thead>\n",
       "    <tr style=\"text-align: right;\">\n",
       "      <th></th>\n",
       "      <th>AccountID</th>\n",
       "      <th>Churn</th>\n",
       "      <th>Tenure</th>\n",
       "      <th>City_Tier</th>\n",
       "      <th>CC_Contacted_LY</th>\n",
       "      <th>Payment</th>\n",
       "      <th>Gender</th>\n",
       "      <th>Service_Score</th>\n",
       "      <th>Account_user_count</th>\n",
       "      <th>account_segment</th>\n",
       "      <th>CC_Agent_Score</th>\n",
       "      <th>Marital_Status</th>\n",
       "      <th>rev_per_month</th>\n",
       "      <th>Complain_ly</th>\n",
       "      <th>rev_growth_yoy</th>\n",
       "      <th>coupon_used_for_payment</th>\n",
       "      <th>Day_Since_CC_connect</th>\n",
       "      <th>cashback</th>\n",
       "      <th>Login_device</th>\n",
       "    </tr>\n",
       "  </thead>\n",
       "  <tbody>\n",
       "    <tr>\n",
       "      <th>0</th>\n",
       "      <td>20000</td>\n",
       "      <td>1</td>\n",
       "      <td>4</td>\n",
       "      <td>3.00</td>\n",
       "      <td>6.00</td>\n",
       "      <td>Debit Card</td>\n",
       "      <td>Female</td>\n",
       "      <td>3.00</td>\n",
       "      <td>3</td>\n",
       "      <td>Super</td>\n",
       "      <td>2.00</td>\n",
       "      <td>Single</td>\n",
       "      <td>9</td>\n",
       "      <td>1.00</td>\n",
       "      <td>11</td>\n",
       "      <td>1</td>\n",
       "      <td>5</td>\n",
       "      <td>159.93</td>\n",
       "      <td>Mobile</td>\n",
       "    </tr>\n",
       "    <tr>\n",
       "      <th>1</th>\n",
       "      <td>20001</td>\n",
       "      <td>1</td>\n",
       "      <td>0</td>\n",
       "      <td>1.00</td>\n",
       "      <td>8.00</td>\n",
       "      <td>UPI</td>\n",
       "      <td>Male</td>\n",
       "      <td>3.00</td>\n",
       "      <td>4</td>\n",
       "      <td>Regular Plus</td>\n",
       "      <td>3.00</td>\n",
       "      <td>Single</td>\n",
       "      <td>7</td>\n",
       "      <td>1.00</td>\n",
       "      <td>15</td>\n",
       "      <td>0</td>\n",
       "      <td>0</td>\n",
       "      <td>120.90</td>\n",
       "      <td>Mobile</td>\n",
       "    </tr>\n",
       "    <tr>\n",
       "      <th>2</th>\n",
       "      <td>20002</td>\n",
       "      <td>1</td>\n",
       "      <td>0</td>\n",
       "      <td>1.00</td>\n",
       "      <td>30.00</td>\n",
       "      <td>Debit Card</td>\n",
       "      <td>Male</td>\n",
       "      <td>2.00</td>\n",
       "      <td>4</td>\n",
       "      <td>Regular Plus</td>\n",
       "      <td>3.00</td>\n",
       "      <td>Single</td>\n",
       "      <td>6</td>\n",
       "      <td>1.00</td>\n",
       "      <td>14</td>\n",
       "      <td>0</td>\n",
       "      <td>3</td>\n",
       "      <td>NaN</td>\n",
       "      <td>Mobile</td>\n",
       "    </tr>\n",
       "    <tr>\n",
       "      <th>3</th>\n",
       "      <td>20003</td>\n",
       "      <td>1</td>\n",
       "      <td>0</td>\n",
       "      <td>3.00</td>\n",
       "      <td>15.00</td>\n",
       "      <td>Debit Card</td>\n",
       "      <td>Male</td>\n",
       "      <td>2.00</td>\n",
       "      <td>4</td>\n",
       "      <td>Super</td>\n",
       "      <td>5.00</td>\n",
       "      <td>Single</td>\n",
       "      <td>8</td>\n",
       "      <td>0.00</td>\n",
       "      <td>23</td>\n",
       "      <td>0</td>\n",
       "      <td>3</td>\n",
       "      <td>134.07</td>\n",
       "      <td>Mobile</td>\n",
       "    </tr>\n",
       "    <tr>\n",
       "      <th>4</th>\n",
       "      <td>20004</td>\n",
       "      <td>1</td>\n",
       "      <td>0</td>\n",
       "      <td>1.00</td>\n",
       "      <td>12.00</td>\n",
       "      <td>Credit Card</td>\n",
       "      <td>Male</td>\n",
       "      <td>2.00</td>\n",
       "      <td>3</td>\n",
       "      <td>Regular Plus</td>\n",
       "      <td>5.00</td>\n",
       "      <td>Single</td>\n",
       "      <td>3</td>\n",
       "      <td>0.00</td>\n",
       "      <td>11</td>\n",
       "      <td>1</td>\n",
       "      <td>3</td>\n",
       "      <td>129.60</td>\n",
       "      <td>Mobile</td>\n",
       "    </tr>\n",
       "  </tbody>\n",
       "</table>\n",
       "</div>"
      ],
      "text/plain": [
       "   AccountID  Churn Tenure  City_Tier  CC_Contacted_LY      Payment  Gender  \\\n",
       "0      20000      1      4       3.00             6.00   Debit Card  Female   \n",
       "1      20001      1      0       1.00             8.00          UPI    Male   \n",
       "2      20002      1      0       1.00            30.00   Debit Card    Male   \n",
       "3      20003      1      0       3.00            15.00   Debit Card    Male   \n",
       "4      20004      1      0       1.00            12.00  Credit Card    Male   \n",
       "\n",
       "   Service_Score Account_user_count account_segment  CC_Agent_Score  \\\n",
       "0           3.00                  3           Super            2.00   \n",
       "1           3.00                  4    Regular Plus            3.00   \n",
       "2           2.00                  4    Regular Plus            3.00   \n",
       "3           2.00                  4           Super            5.00   \n",
       "4           2.00                  3    Regular Plus            5.00   \n",
       "\n",
       "  Marital_Status rev_per_month  Complain_ly rev_growth_yoy  \\\n",
       "0         Single             9         1.00             11   \n",
       "1         Single             7         1.00             15   \n",
       "2         Single             6         1.00             14   \n",
       "3         Single             8         0.00             23   \n",
       "4         Single             3         0.00             11   \n",
       "\n",
       "  coupon_used_for_payment Day_Since_CC_connect cashback Login_device  \n",
       "0                       1                    5   159.93       Mobile  \n",
       "1                       0                    0   120.90       Mobile  \n",
       "2                       0                    3      NaN       Mobile  \n",
       "3                       0                    3   134.07       Mobile  \n",
       "4                       1                    3   129.60       Mobile  "
      ]
     },
     "execution_count": 29,
     "metadata": {},
     "output_type": "execute_result"
    }
   ],
   "source": [
    "# Vivewing the dataset\n",
    "customer_churn_data.head()"
   ]
  },
  {
   "cell_type": "markdown",
   "id": "0b63ae56-5a40-47e3-840c-5c1d570854d4",
   "metadata": {},
   "source": [
    "### Understanding the dataset"
   ]
  },
  {
   "cell_type": "code",
   "execution_count": 37,
   "id": "35e9c51b-b77b-4d81-a819-aac23a81694b",
   "metadata": {},
   "outputs": [
    {
     "data": {
      "text/html": [
       "<div>\n",
       "<style scoped>\n",
       "    .dataframe tbody tr th:only-of-type {\n",
       "        vertical-align: middle;\n",
       "    }\n",
       "\n",
       "    .dataframe tbody tr th {\n",
       "        vertical-align: top;\n",
       "    }\n",
       "\n",
       "    .dataframe thead th {\n",
       "        text-align: right;\n",
       "    }\n",
       "</style>\n",
       "<table border=\"1\" class=\"dataframe\">\n",
       "  <thead>\n",
       "    <tr style=\"text-align: right;\">\n",
       "      <th></th>\n",
       "      <th>Unnamed: 0</th>\n",
       "      <th>Unnamed: 1</th>\n",
       "      <th>Unnamed: 2</th>\n",
       "    </tr>\n",
       "  </thead>\n",
       "  <tbody>\n",
       "    <tr>\n",
       "      <th>0</th>\n",
       "      <td>NaN</td>\n",
       "      <td>Variable</td>\n",
       "      <td>Description</td>\n",
       "    </tr>\n",
       "    <tr>\n",
       "      <th>1</th>\n",
       "      <td>NaN</td>\n",
       "      <td>AccountID</td>\n",
       "      <td>account unique identifier</td>\n",
       "    </tr>\n",
       "    <tr>\n",
       "      <th>2</th>\n",
       "      <td>NaN</td>\n",
       "      <td>Churn</td>\n",
       "      <td>account churn flag (Target)</td>\n",
       "    </tr>\n",
       "    <tr>\n",
       "      <th>3</th>\n",
       "      <td>NaN</td>\n",
       "      <td>Tenure</td>\n",
       "      <td>Tenure of account</td>\n",
       "    </tr>\n",
       "    <tr>\n",
       "      <th>4</th>\n",
       "      <td>NaN</td>\n",
       "      <td>City_Tier</td>\n",
       "      <td>Tier of primary customer's city</td>\n",
       "    </tr>\n",
       "    <tr>\n",
       "      <th>5</th>\n",
       "      <td>NaN</td>\n",
       "      <td>CC_Contacted_L12m</td>\n",
       "      <td>How many times all the customers of the accoun...</td>\n",
       "    </tr>\n",
       "    <tr>\n",
       "      <th>6</th>\n",
       "      <td>NaN</td>\n",
       "      <td>Payment</td>\n",
       "      <td>Preferred Payment mode of the customers in the...</td>\n",
       "    </tr>\n",
       "    <tr>\n",
       "      <th>7</th>\n",
       "      <td>NaN</td>\n",
       "      <td>Gender</td>\n",
       "      <td>Gender of the primary customer of the account</td>\n",
       "    </tr>\n",
       "    <tr>\n",
       "      <th>8</th>\n",
       "      <td>NaN</td>\n",
       "      <td>Service_Score</td>\n",
       "      <td>Satisfaction score given by customers of the a...</td>\n",
       "    </tr>\n",
       "    <tr>\n",
       "      <th>9</th>\n",
       "      <td>NaN</td>\n",
       "      <td>Account_user_count</td>\n",
       "      <td>Number of customers tagged with this account</td>\n",
       "    </tr>\n",
       "    <tr>\n",
       "      <th>10</th>\n",
       "      <td>NaN</td>\n",
       "      <td>account_segment</td>\n",
       "      <td>Account segmentation on the basis of spend</td>\n",
       "    </tr>\n",
       "    <tr>\n",
       "      <th>11</th>\n",
       "      <td>NaN</td>\n",
       "      <td>CC_Agent_Score</td>\n",
       "      <td>Satisfaction score given by customers of the a...</td>\n",
       "    </tr>\n",
       "    <tr>\n",
       "      <th>12</th>\n",
       "      <td>NaN</td>\n",
       "      <td>Marital_Status</td>\n",
       "      <td>Marital status of the primary customer of the ...</td>\n",
       "    </tr>\n",
       "    <tr>\n",
       "      <th>13</th>\n",
       "      <td>NaN</td>\n",
       "      <td>rev_per_month</td>\n",
       "      <td>Monthly average revenue generated by account i...</td>\n",
       "    </tr>\n",
       "    <tr>\n",
       "      <th>14</th>\n",
       "      <td>NaN</td>\n",
       "      <td>Complain_l12m</td>\n",
       "      <td>Any complaints has been raised by account in l...</td>\n",
       "    </tr>\n",
       "    <tr>\n",
       "      <th>15</th>\n",
       "      <td>NaN</td>\n",
       "      <td>rev_growth_yoy</td>\n",
       "      <td>revenue growth percentage of the account (last...</td>\n",
       "    </tr>\n",
       "    <tr>\n",
       "      <th>16</th>\n",
       "      <td>NaN</td>\n",
       "      <td>coupon_used_l12m</td>\n",
       "      <td>How many times customers have used coupons to ...</td>\n",
       "    </tr>\n",
       "    <tr>\n",
       "      <th>17</th>\n",
       "      <td>NaN</td>\n",
       "      <td>Day_Since_CC_connect</td>\n",
       "      <td>Number of days since no customers in the accou...</td>\n",
       "    </tr>\n",
       "    <tr>\n",
       "      <th>18</th>\n",
       "      <td>NaN</td>\n",
       "      <td>cashback_l12m</td>\n",
       "      <td>Monthly average cashback generated by account ...</td>\n",
       "    </tr>\n",
       "    <tr>\n",
       "      <th>19</th>\n",
       "      <td>NaN</td>\n",
       "      <td>Login_device</td>\n",
       "      <td>Preferred login device of the customers in the...</td>\n",
       "    </tr>\n",
       "  </tbody>\n",
       "</table>\n",
       "</div>"
      ],
      "text/plain": [
       "    Unnamed: 0            Unnamed: 1  \\\n",
       "0          NaN              Variable   \n",
       "1          NaN             AccountID   \n",
       "2          NaN                 Churn   \n",
       "3          NaN                Tenure   \n",
       "4          NaN             City_Tier   \n",
       "5          NaN     CC_Contacted_L12m   \n",
       "6          NaN               Payment   \n",
       "7          NaN                Gender   \n",
       "8          NaN         Service_Score   \n",
       "9          NaN    Account_user_count   \n",
       "10         NaN       account_segment   \n",
       "11         NaN        CC_Agent_Score   \n",
       "12         NaN        Marital_Status   \n",
       "13         NaN         rev_per_month   \n",
       "14         NaN         Complain_l12m   \n",
       "15         NaN        rev_growth_yoy   \n",
       "16         NaN      coupon_used_l12m   \n",
       "17         NaN  Day_Since_CC_connect   \n",
       "18         NaN         cashback_l12m   \n",
       "19         NaN          Login_device   \n",
       "\n",
       "                                           Unnamed: 2  \n",
       "0                                         Description  \n",
       "1                           account unique identifier  \n",
       "2                         account churn flag (Target)  \n",
       "3                                   Tenure of account  \n",
       "4                     Tier of primary customer's city  \n",
       "5   How many times all the customers of the accoun...  \n",
       "6   Preferred Payment mode of the customers in the...  \n",
       "7       Gender of the primary customer of the account  \n",
       "8   Satisfaction score given by customers of the a...  \n",
       "9        Number of customers tagged with this account  \n",
       "10         Account segmentation on the basis of spend  \n",
       "11  Satisfaction score given by customers of the a...  \n",
       "12  Marital status of the primary customer of the ...  \n",
       "13  Monthly average revenue generated by account i...  \n",
       "14  Any complaints has been raised by account in l...  \n",
       "15  revenue growth percentage of the account (last...  \n",
       "16  How many times customers have used coupons to ...  \n",
       "17  Number of days since no customers in the accou...  \n",
       "18  Monthly average cashback generated by account ...  \n",
       "19  Preferred login device of the customers in the...  "
      ]
     },
     "execution_count": 37,
     "metadata": {},
     "output_type": "execute_result"
    }
   ],
   "source": [
    "# Understanding of attributes in the dataset\n",
    "customer_churn_column_data"
   ]
  },
  {
   "cell_type": "code",
   "execution_count": 65,
   "id": "4c53bd32-b3b0-445b-a9d2-b7b0237d5f8a",
   "metadata": {},
   "outputs": [],
   "source": [
    "# creating a copy of the dataset\n",
    "data = customer_churn_data.copy()"
   ]
  },
  {
   "cell_type": "code",
   "execution_count": 67,
   "id": "294700ed-2c5d-4d21-9b25-fc6b62182ba0",
   "metadata": {},
   "outputs": [
    {
     "data": {
      "text/plain": [
       "(11260, 19)"
      ]
     },
     "execution_count": 67,
     "metadata": {},
     "output_type": "execute_result"
    }
   ],
   "source": [
    "# Checking the number of rows and columns in the data\n",
    "data.shape"
   ]
  },
  {
   "cell_type": "code",
   "execution_count": 43,
   "id": "e9aa8c66-650e-41ed-a0cc-9d3632c94d97",
   "metadata": {},
   "outputs": [
    {
     "data": {
      "text/html": [
       "<div>\n",
       "<style scoped>\n",
       "    .dataframe tbody tr th:only-of-type {\n",
       "        vertical-align: middle;\n",
       "    }\n",
       "\n",
       "    .dataframe tbody tr th {\n",
       "        vertical-align: top;\n",
       "    }\n",
       "\n",
       "    .dataframe thead th {\n",
       "        text-align: right;\n",
       "    }\n",
       "</style>\n",
       "<table border=\"1\" class=\"dataframe\">\n",
       "  <thead>\n",
       "    <tr style=\"text-align: right;\">\n",
       "      <th></th>\n",
       "      <th>AccountID</th>\n",
       "      <th>Churn</th>\n",
       "      <th>Tenure</th>\n",
       "      <th>City_Tier</th>\n",
       "      <th>CC_Contacted_LY</th>\n",
       "      <th>Payment</th>\n",
       "      <th>Gender</th>\n",
       "      <th>Service_Score</th>\n",
       "      <th>Account_user_count</th>\n",
       "      <th>account_segment</th>\n",
       "      <th>CC_Agent_Score</th>\n",
       "      <th>Marital_Status</th>\n",
       "      <th>rev_per_month</th>\n",
       "      <th>Complain_ly</th>\n",
       "      <th>rev_growth_yoy</th>\n",
       "      <th>coupon_used_for_payment</th>\n",
       "      <th>Day_Since_CC_connect</th>\n",
       "      <th>cashback</th>\n",
       "      <th>Login_device</th>\n",
       "    </tr>\n",
       "  </thead>\n",
       "  <tbody>\n",
       "    <tr>\n",
       "      <th>1152</th>\n",
       "      <td>21152</td>\n",
       "      <td>0</td>\n",
       "      <td>19</td>\n",
       "      <td>1.00</td>\n",
       "      <td>8.00</td>\n",
       "      <td>Credit Card</td>\n",
       "      <td>Male</td>\n",
       "      <td>2.00</td>\n",
       "      <td>3</td>\n",
       "      <td>Regular</td>\n",
       "      <td>1.00</td>\n",
       "      <td>Married</td>\n",
       "      <td>8</td>\n",
       "      <td>1.00</td>\n",
       "      <td>17</td>\n",
       "      <td>1</td>\n",
       "      <td>2</td>\n",
       "      <td>293.28</td>\n",
       "      <td>Mobile</td>\n",
       "    </tr>\n",
       "    <tr>\n",
       "      <th>9011</th>\n",
       "      <td>29011</td>\n",
       "      <td>0</td>\n",
       "      <td>14</td>\n",
       "      <td>1.00</td>\n",
       "      <td>21.00</td>\n",
       "      <td>Credit Card</td>\n",
       "      <td>Male</td>\n",
       "      <td>3.00</td>\n",
       "      <td>4</td>\n",
       "      <td>Regular Plus</td>\n",
       "      <td>4.00</td>\n",
       "      <td>Married</td>\n",
       "      <td>12</td>\n",
       "      <td>1.00</td>\n",
       "      <td>16</td>\n",
       "      <td>1</td>\n",
       "      <td>1</td>\n",
       "      <td>163.17</td>\n",
       "      <td>Computer</td>\n",
       "    </tr>\n",
       "    <tr>\n",
       "      <th>5164</th>\n",
       "      <td>25164</td>\n",
       "      <td>0</td>\n",
       "      <td>1</td>\n",
       "      <td>1.00</td>\n",
       "      <td>14.00</td>\n",
       "      <td>UPI</td>\n",
       "      <td>Male</td>\n",
       "      <td>4.00</td>\n",
       "      <td>2</td>\n",
       "      <td>Regular +</td>\n",
       "      <td>5.00</td>\n",
       "      <td>Single</td>\n",
       "      <td>+</td>\n",
       "      <td>NaN</td>\n",
       "      <td>13</td>\n",
       "      <td>1</td>\n",
       "      <td>8</td>\n",
       "      <td>160.78</td>\n",
       "      <td>Mobile</td>\n",
       "    </tr>\n",
       "    <tr>\n",
       "      <th>4386</th>\n",
       "      <td>24386</td>\n",
       "      <td>0</td>\n",
       "      <td>11</td>\n",
       "      <td>3.00</td>\n",
       "      <td>11.00</td>\n",
       "      <td>E wallet</td>\n",
       "      <td>Male</td>\n",
       "      <td>3.00</td>\n",
       "      <td>4</td>\n",
       "      <td>Regular Plus</td>\n",
       "      <td>1.00</td>\n",
       "      <td>Married</td>\n",
       "      <td>6</td>\n",
       "      <td>0.00</td>\n",
       "      <td>18</td>\n",
       "      <td>4</td>\n",
       "      <td>9</td>\n",
       "      <td>152.93</td>\n",
       "      <td>Computer</td>\n",
       "    </tr>\n",
       "    <tr>\n",
       "      <th>11067</th>\n",
       "      <td>31067</td>\n",
       "      <td>0</td>\n",
       "      <td>20</td>\n",
       "      <td>1.00</td>\n",
       "      <td>11.00</td>\n",
       "      <td>Credit Card</td>\n",
       "      <td>Male</td>\n",
       "      <td>3.00</td>\n",
       "      <td>4</td>\n",
       "      <td>Regular</td>\n",
       "      <td>1.00</td>\n",
       "      <td>Married</td>\n",
       "      <td>9</td>\n",
       "      <td>1.00</td>\n",
       "      <td>19</td>\n",
       "      <td>3</td>\n",
       "      <td>3</td>\n",
       "      <td>325.28</td>\n",
       "      <td>Mobile</td>\n",
       "    </tr>\n",
       "    <tr>\n",
       "      <th>9185</th>\n",
       "      <td>29185</td>\n",
       "      <td>0</td>\n",
       "      <td>4</td>\n",
       "      <td>3.00</td>\n",
       "      <td>42.00</td>\n",
       "      <td>Debit Card</td>\n",
       "      <td>Male</td>\n",
       "      <td>4.00</td>\n",
       "      <td>4</td>\n",
       "      <td>Super</td>\n",
       "      <td>5.00</td>\n",
       "      <td>Married</td>\n",
       "      <td>14</td>\n",
       "      <td>0.00</td>\n",
       "      <td>22</td>\n",
       "      <td>2</td>\n",
       "      <td>4</td>\n",
       "      <td>166.15</td>\n",
       "      <td>Mobile</td>\n",
       "    </tr>\n",
       "    <tr>\n",
       "      <th>3588</th>\n",
       "      <td>23588</td>\n",
       "      <td>0</td>\n",
       "      <td>17</td>\n",
       "      <td>1.00</td>\n",
       "      <td>10.00</td>\n",
       "      <td>Debit Card</td>\n",
       "      <td>Male</td>\n",
       "      <td>4.00</td>\n",
       "      <td>6</td>\n",
       "      <td>Regular</td>\n",
       "      <td>2.00</td>\n",
       "      <td>Divorced</td>\n",
       "      <td>5</td>\n",
       "      <td>0.00</td>\n",
       "      <td>15</td>\n",
       "      <td>2</td>\n",
       "      <td>8</td>\n",
       "      <td>322.40</td>\n",
       "      <td>Mobile</td>\n",
       "    </tr>\n",
       "    <tr>\n",
       "      <th>1011</th>\n",
       "      <td>21011</td>\n",
       "      <td>1</td>\n",
       "      <td>0</td>\n",
       "      <td>1.00</td>\n",
       "      <td>30.00</td>\n",
       "      <td>Credit Card</td>\n",
       "      <td>NaN</td>\n",
       "      <td>2.00</td>\n",
       "      <td>3</td>\n",
       "      <td>Regular Plus</td>\n",
       "      <td>4.00</td>\n",
       "      <td>Married</td>\n",
       "      <td>2</td>\n",
       "      <td>1.00</td>\n",
       "      <td>17</td>\n",
       "      <td>0</td>\n",
       "      <td>0</td>\n",
       "      <td>1803</td>\n",
       "      <td>Mobile</td>\n",
       "    </tr>\n",
       "    <tr>\n",
       "      <th>450</th>\n",
       "      <td>20450</td>\n",
       "      <td>0</td>\n",
       "      <td>27</td>\n",
       "      <td>1.00</td>\n",
       "      <td>25.00</td>\n",
       "      <td>Credit Card</td>\n",
       "      <td>Female</td>\n",
       "      <td>3.00</td>\n",
       "      <td>3</td>\n",
       "      <td>Super</td>\n",
       "      <td>5.00</td>\n",
       "      <td>Married</td>\n",
       "      <td>10</td>\n",
       "      <td>1.00</td>\n",
       "      <td>11</td>\n",
       "      <td>0</td>\n",
       "      <td>4</td>\n",
       "      <td>NaN</td>\n",
       "      <td>Mobile</td>\n",
       "    </tr>\n",
       "    <tr>\n",
       "      <th>1559</th>\n",
       "      <td>21559</td>\n",
       "      <td>1</td>\n",
       "      <td>0</td>\n",
       "      <td>1.00</td>\n",
       "      <td>9.00</td>\n",
       "      <td>Cash on Delivery</td>\n",
       "      <td>Female</td>\n",
       "      <td>2.00</td>\n",
       "      <td>3</td>\n",
       "      <td>Regular Plus</td>\n",
       "      <td>5.00</td>\n",
       "      <td>Single</td>\n",
       "      <td>6</td>\n",
       "      <td>1.00</td>\n",
       "      <td>11</td>\n",
       "      <td>0</td>\n",
       "      <td>4</td>\n",
       "      <td>126.57</td>\n",
       "      <td>Mobile</td>\n",
       "    </tr>\n",
       "  </tbody>\n",
       "</table>\n",
       "</div>"
      ],
      "text/plain": [
       "       AccountID  Churn Tenure  City_Tier  CC_Contacted_LY           Payment  \\\n",
       "1152       21152      0     19       1.00             8.00       Credit Card   \n",
       "9011       29011      0     14       1.00            21.00       Credit Card   \n",
       "5164       25164      0      1       1.00            14.00               UPI   \n",
       "4386       24386      0     11       3.00            11.00          E wallet   \n",
       "11067      31067      0     20       1.00            11.00       Credit Card   \n",
       "9185       29185      0      4       3.00            42.00        Debit Card   \n",
       "3588       23588      0     17       1.00            10.00        Debit Card   \n",
       "1011       21011      1      0       1.00            30.00       Credit Card   \n",
       "450        20450      0     27       1.00            25.00       Credit Card   \n",
       "1559       21559      1      0       1.00             9.00  Cash on Delivery   \n",
       "\n",
       "       Gender  Service_Score Account_user_count account_segment  \\\n",
       "1152     Male           2.00                  3         Regular   \n",
       "9011     Male           3.00                  4    Regular Plus   \n",
       "5164     Male           4.00                  2       Regular +   \n",
       "4386     Male           3.00                  4    Regular Plus   \n",
       "11067    Male           3.00                  4         Regular   \n",
       "9185     Male           4.00                  4           Super   \n",
       "3588     Male           4.00                  6         Regular   \n",
       "1011      NaN           2.00                  3    Regular Plus   \n",
       "450    Female           3.00                  3           Super   \n",
       "1559   Female           2.00                  3    Regular Plus   \n",
       "\n",
       "       CC_Agent_Score Marital_Status rev_per_month  Complain_ly  \\\n",
       "1152             1.00        Married             8         1.00   \n",
       "9011             4.00        Married            12         1.00   \n",
       "5164             5.00         Single             +          NaN   \n",
       "4386             1.00        Married             6         0.00   \n",
       "11067            1.00        Married             9         1.00   \n",
       "9185             5.00        Married            14         0.00   \n",
       "3588             2.00       Divorced             5         0.00   \n",
       "1011             4.00        Married             2         1.00   \n",
       "450              5.00        Married            10         1.00   \n",
       "1559             5.00         Single             6         1.00   \n",
       "\n",
       "      rev_growth_yoy coupon_used_for_payment Day_Since_CC_connect cashback  \\\n",
       "1152              17                       1                    2   293.28   \n",
       "9011              16                       1                    1   163.17   \n",
       "5164              13                       1                    8   160.78   \n",
       "4386              18                       4                    9   152.93   \n",
       "11067             19                       3                    3   325.28   \n",
       "9185              22                       2                    4   166.15   \n",
       "3588              15                       2                    8   322.40   \n",
       "1011              17                       0                    0     1803   \n",
       "450               11                       0                    4      NaN   \n",
       "1559              11                       0                    4   126.57   \n",
       "\n",
       "      Login_device  \n",
       "1152        Mobile  \n",
       "9011      Computer  \n",
       "5164        Mobile  \n",
       "4386      Computer  \n",
       "11067       Mobile  \n",
       "9185        Mobile  \n",
       "3588        Mobile  \n",
       "1011        Mobile  \n",
       "450         Mobile  \n",
       "1559        Mobile  "
      ]
     },
     "execution_count": 43,
     "metadata": {},
     "output_type": "execute_result"
    }
   ],
   "source": [
    "#Viewing 10 random observations from the dataset\n",
    "data.sample(10)"
   ]
  },
  {
   "cell_type": "code",
   "execution_count": 45,
   "id": "b02adc55-5c0d-4696-bdda-e799f031d6f0",
   "metadata": {},
   "outputs": [
    {
     "name": "stdout",
     "output_type": "stream",
     "text": [
      "<class 'pandas.core.frame.DataFrame'>\n",
      "RangeIndex: 11260 entries, 0 to 11259\n",
      "Data columns (total 19 columns):\n",
      " #   Column                   Non-Null Count  Dtype  \n",
      "---  ------                   --------------  -----  \n",
      " 0   AccountID                11260 non-null  int64  \n",
      " 1   Churn                    11260 non-null  int64  \n",
      " 2   Tenure                   11158 non-null  object \n",
      " 3   City_Tier                11148 non-null  float64\n",
      " 4   CC_Contacted_LY          11158 non-null  float64\n",
      " 5   Payment                  11151 non-null  object \n",
      " 6   Gender                   11152 non-null  object \n",
      " 7   Service_Score            11162 non-null  float64\n",
      " 8   Account_user_count       11148 non-null  object \n",
      " 9   account_segment          11163 non-null  object \n",
      " 10  CC_Agent_Score           11144 non-null  float64\n",
      " 11  Marital_Status           11048 non-null  object \n",
      " 12  rev_per_month            11158 non-null  object \n",
      " 13  Complain_ly              10903 non-null  float64\n",
      " 14  rev_growth_yoy           11260 non-null  object \n",
      " 15  coupon_used_for_payment  11260 non-null  object \n",
      " 16  Day_Since_CC_connect     10903 non-null  object \n",
      " 17  cashback                 10789 non-null  object \n",
      " 18  Login_device             11039 non-null  object \n",
      "dtypes: float64(5), int64(2), object(12)\n",
      "memory usage: 1.6+ MB\n"
     ]
    }
   ],
   "source": [
    "# Checking the data types of the columns in the dataset\n",
    "data.info()"
   ]
  },
  {
   "cell_type": "markdown",
   "id": "bbbb7ffa-03e0-4d71-ae0e-97a480121cee",
   "metadata": {},
   "source": [
    "## Exploratory Data Analysis(EDA)"
   ]
  },
  {
   "cell_type": "markdown",
   "id": "cb3d616d-448b-4ebe-bfbf-35075bf02d67",
   "metadata": {},
   "source": [
    "#### 1. Checking for duplicated values"
   ]
  },
  {
   "cell_type": "code",
   "execution_count": 47,
   "id": "7b36d16a-7e92-4ec5-8290-03d44d4d260b",
   "metadata": {},
   "outputs": [
    {
     "data": {
      "text/plain": [
       "0"
      ]
     },
     "execution_count": 47,
     "metadata": {},
     "output_type": "execute_result"
    }
   ],
   "source": [
    "data.duplicated().sum()"
   ]
  },
  {
   "cell_type": "markdown",
   "id": "4761f385-abd4-4da5-845c-87460f98846c",
   "metadata": {},
   "source": [
    "#### 2. Checking for the number of missing values in the dataset"
   ]
  },
  {
   "cell_type": "code",
   "execution_count": 57,
   "id": "853d13b1-a40c-4819-a6d7-ae74e2bd86a4",
   "metadata": {},
   "outputs": [
    {
     "data": {
      "text/plain": [
       "[Churn                        0\n",
       " Tenure                     102\n",
       " City_Tier                  112\n",
       " CC_Contacted_LY            102\n",
       " Payment                    109\n",
       " Gender                     108\n",
       " Service_Score               98\n",
       " Account_user_count         112\n",
       " account_segment             97\n",
       " CC_Agent_Score             116\n",
       " Marital_Status             212\n",
       " rev_per_month              102\n",
       " Complain_ly                357\n",
       " rev_growth_yoy               0\n",
       " coupon_used_for_payment      0\n",
       " Day_Since_CC_connect       357\n",
       " cashback                   471\n",
       " Login_device               221\n",
       " dtype: int64,\n",
       " '--------------------------------------',\n",
       " Churn                     0.00\n",
       " Tenure                    0.91\n",
       " City_Tier                 0.99\n",
       " CC_Contacted_LY           0.91\n",
       " Payment                   0.97\n",
       " Gender                    0.96\n",
       " Service_Score             0.87\n",
       " Account_user_count        0.99\n",
       " account_segment           0.86\n",
       " CC_Agent_Score            1.03\n",
       " Marital_Status            1.88\n",
       " rev_per_month             0.91\n",
       " Complain_ly               3.17\n",
       " rev_growth_yoy            0.00\n",
       " coupon_used_for_payment   0.00\n",
       " Day_Since_CC_connect      3.17\n",
       " cashback                  4.18\n",
       " Login_device              1.96\n",
       " dtype: float64]"
      ]
     },
     "execution_count": 57,
     "metadata": {},
     "output_type": "execute_result"
    }
   ],
   "source": [
    "MissingValues = [data.isnull().sum()] + ['--------------------------------------'] + [ data.isnull().sum() / data.isnull().count() * 100]\n",
    "MissingValues"
   ]
  },
  {
   "cell_type": "markdown",
   "id": "06ae4334-3f96-4552-8990-ae6130be4af9",
   "metadata": {},
   "source": [
    "#### 3. Checking the number of unique values in each column"
   ]
  },
  {
   "cell_type": "code",
   "execution_count": 53,
   "id": "5c99b5e5-4b2c-45d1-b59e-7652c939f1d2",
   "metadata": {},
   "outputs": [
    {
     "data": {
      "text/plain": [
       "Churn                         2\n",
       "Tenure                       38\n",
       "City_Tier                     3\n",
       "CC_Contacted_LY              44\n",
       "Payment                       5\n",
       "Gender                        4\n",
       "Service_Score                 6\n",
       "Account_user_count            7\n",
       "account_segment               7\n",
       "CC_Agent_Score                5\n",
       "Marital_Status                3\n",
       "rev_per_month                59\n",
       "Complain_ly                   2\n",
       "rev_growth_yoy               20\n",
       "coupon_used_for_payment      20\n",
       "Day_Since_CC_connect         24\n",
       "cashback                   5693\n",
       "Login_device                  3\n",
       "dtype: int64"
      ]
     },
     "execution_count": 53,
     "metadata": {},
     "output_type": "execute_result"
    }
   ],
   "source": [
    "data.nunique()"
   ]
  },
  {
   "cell_type": "markdown",
   "id": "1cd6ada4-bcf1-478d-a730-ed725e774768",
   "metadata": {},
   "source": [
    "### Data Cleaning and Pre-processing\t\n",
    "a) Removal of unwanted variables<br>\n",
    "b) Missing Value treatment <br>\n",
    "d) Outlier treatment <br>\n",
    "e) Variable transformation <br>\n",
    "f) Addition of new variables <br>"
   ]
  },
  {
   "cell_type": "markdown",
   "id": "0eddd54c-35db-47c3-8060-5fc65e97254a",
   "metadata": {},
   "source": [
    "##### Removal of unwanted variables"
   ]
  },
  {
   "cell_type": "code",
   "execution_count": 69,
   "id": "2f0c18d7-26e3-49b1-8641-cf8d4544ef3b",
   "metadata": {},
   "outputs": [],
   "source": [
    "# data.drop(['AccountID'], axis=1)\n",
    "data.drop(\"AccountID\",axis=1,inplace=True)"
   ]
  },
  {
   "cell_type": "code",
   "execution_count": 71,
   "id": "14c9b42f-cc73-481a-ae3e-5100abd71c73",
   "metadata": {},
   "outputs": [
    {
     "data": {
      "text/plain": [
       "(11260, 18)"
      ]
     },
     "execution_count": 71,
     "metadata": {},
     "output_type": "execute_result"
    }
   ],
   "source": [
    "data.shape"
   ]
  },
  {
   "cell_type": "markdown",
   "id": "3bb7892d-354a-48ca-baf1-ee8ce3929690",
   "metadata": {},
   "source": [
    "The data has 11260 observations with 18 variables, of which there are a few nulls in some of the variables' observations. The independent variables have both numerical and categorical data, and the churn variable is considered the target variable. <br><br>The table below describes the numerical data with a few necessary details:"
   ]
  },
  {
   "cell_type": "code",
   "execution_count": 73,
   "id": "4a5112ae-f087-4d6e-be5c-c35e9ce74d45",
   "metadata": {},
   "outputs": [
    {
     "data": {
      "text/html": [
       "<div>\n",
       "<style scoped>\n",
       "    .dataframe tbody tr th:only-of-type {\n",
       "        vertical-align: middle;\n",
       "    }\n",
       "\n",
       "    .dataframe tbody tr th {\n",
       "        vertical-align: top;\n",
       "    }\n",
       "\n",
       "    .dataframe thead th {\n",
       "        text-align: right;\n",
       "    }\n",
       "</style>\n",
       "<table border=\"1\" class=\"dataframe\">\n",
       "  <thead>\n",
       "    <tr style=\"text-align: right;\">\n",
       "      <th></th>\n",
       "      <th>count</th>\n",
       "      <th>mean</th>\n",
       "      <th>std</th>\n",
       "      <th>min</th>\n",
       "      <th>25%</th>\n",
       "      <th>50%</th>\n",
       "      <th>75%</th>\n",
       "      <th>max</th>\n",
       "    </tr>\n",
       "  </thead>\n",
       "  <tbody>\n",
       "    <tr>\n",
       "      <th>Churn</th>\n",
       "      <td>11260.00</td>\n",
       "      <td>0.17</td>\n",
       "      <td>0.37</td>\n",
       "      <td>0.00</td>\n",
       "      <td>0.00</td>\n",
       "      <td>0.00</td>\n",
       "      <td>0.00</td>\n",
       "      <td>1.00</td>\n",
       "    </tr>\n",
       "    <tr>\n",
       "      <th>City_Tier</th>\n",
       "      <td>11148.00</td>\n",
       "      <td>1.65</td>\n",
       "      <td>0.92</td>\n",
       "      <td>1.00</td>\n",
       "      <td>1.00</td>\n",
       "      <td>1.00</td>\n",
       "      <td>3.00</td>\n",
       "      <td>3.00</td>\n",
       "    </tr>\n",
       "    <tr>\n",
       "      <th>CC_Contacted_LY</th>\n",
       "      <td>11158.00</td>\n",
       "      <td>17.87</td>\n",
       "      <td>8.85</td>\n",
       "      <td>4.00</td>\n",
       "      <td>11.00</td>\n",
       "      <td>16.00</td>\n",
       "      <td>23.00</td>\n",
       "      <td>132.00</td>\n",
       "    </tr>\n",
       "    <tr>\n",
       "      <th>Service_Score</th>\n",
       "      <td>11162.00</td>\n",
       "      <td>2.90</td>\n",
       "      <td>0.73</td>\n",
       "      <td>0.00</td>\n",
       "      <td>2.00</td>\n",
       "      <td>3.00</td>\n",
       "      <td>3.00</td>\n",
       "      <td>5.00</td>\n",
       "    </tr>\n",
       "    <tr>\n",
       "      <th>CC_Agent_Score</th>\n",
       "      <td>11144.00</td>\n",
       "      <td>3.07</td>\n",
       "      <td>1.38</td>\n",
       "      <td>1.00</td>\n",
       "      <td>2.00</td>\n",
       "      <td>3.00</td>\n",
       "      <td>4.00</td>\n",
       "      <td>5.00</td>\n",
       "    </tr>\n",
       "    <tr>\n",
       "      <th>Complain_ly</th>\n",
       "      <td>10903.00</td>\n",
       "      <td>0.29</td>\n",
       "      <td>0.45</td>\n",
       "      <td>0.00</td>\n",
       "      <td>0.00</td>\n",
       "      <td>0.00</td>\n",
       "      <td>1.00</td>\n",
       "      <td>1.00</td>\n",
       "    </tr>\n",
       "  </tbody>\n",
       "</table>\n",
       "</div>"
      ],
      "text/plain": [
       "                   count  mean  std  min   25%   50%   75%    max\n",
       "Churn           11260.00  0.17 0.37 0.00  0.00  0.00  0.00   1.00\n",
       "City_Tier       11148.00  1.65 0.92 1.00  1.00  1.00  3.00   3.00\n",
       "CC_Contacted_LY 11158.00 17.87 8.85 4.00 11.00 16.00 23.00 132.00\n",
       "Service_Score   11162.00  2.90 0.73 0.00  2.00  3.00  3.00   5.00\n",
       "CC_Agent_Score  11144.00  3.07 1.38 1.00  2.00  3.00  4.00   5.00\n",
       "Complain_ly     10903.00  0.29 0.45 0.00  0.00  0.00  1.00   1.00"
      ]
     },
     "execution_count": 73,
     "metadata": {},
     "output_type": "execute_result"
    }
   ],
   "source": [
    "data.describe().T"
   ]
  },
  {
   "cell_type": "markdown",
   "id": "fd916b98-c53f-45a3-b613-507f9289574c",
   "metadata": {},
   "source": [
    "<h3>Missing Value treatment, Outlier treatment, Variable transformation and Addition of new variables for all of the below attributes"
   ]
  },
  {
   "cell_type": "code",
   "execution_count": 75,
   "id": "7c4cf068-510e-4f1f-9765-3326391ee844",
   "metadata": {},
   "outputs": [
    {
     "data": {
      "text/plain": [
       "Churn                        0\n",
       "Tenure                     102\n",
       "City_Tier                  112\n",
       "CC_Contacted_LY            102\n",
       "Payment                    109\n",
       "Gender                     108\n",
       "Service_Score               98\n",
       "Account_user_count         112\n",
       "account_segment             97\n",
       "CC_Agent_Score             116\n",
       "Marital_Status             212\n",
       "rev_per_month              102\n",
       "Complain_ly                357\n",
       "rev_growth_yoy               0\n",
       "coupon_used_for_payment      0\n",
       "Day_Since_CC_connect       357\n",
       "cashback                   471\n",
       "Login_device               221\n",
       "dtype: int64"
      ]
     },
     "execution_count": 75,
     "metadata": {},
     "output_type": "execute_result"
    }
   ],
   "source": [
    "data.isnull().sum()"
   ]
  },
  {
   "cell_type": "markdown",
   "id": "de70186c-e1f5-4bfc-ae61-7a602c841d24",
   "metadata": {},
   "source": [
    "Hence, Churn, rev_growth_yoy, and coupon_used_for_payment has no null values"
   ]
  },
  {
   "cell_type": "markdown",
   "id": "40b32f28-aea0-4115-8e97-5fa02b08e426",
   "metadata": {},
   "source": [
    "<h4>Tenure"
   ]
  },
  {
   "cell_type": "code",
   "execution_count": 80,
   "id": "a177f2cb-0fc0-43eb-9690-a31b0a6d35b1",
   "metadata": {},
   "outputs": [
    {
     "data": {
      "text/plain": [
       "array([4, 0, 2, 13, 11, '#', 9, 99, 19, 20, 14, 8, 26, 18, 5, 30, 7, 1,\n",
       "       23, 3, 29, 6, 28, 24, 25, 16, 10, 15, 22, nan, 27, 12, 21, 17, 50,\n",
       "       60, 31, 51, 61], dtype=object)"
      ]
     },
     "execution_count": 80,
     "metadata": {},
     "output_type": "execute_result"
    }
   ],
   "source": [
    "data.Tenure.unique()"
   ]
  },
  {
   "cell_type": "code",
   "execution_count": 82,
   "id": "6a51bc1b-40c7-41d4-80a1-90a3866ab88f",
   "metadata": {
    "scrolled": true
   },
   "outputs": [
    {
     "data": {
      "text/plain": [
       "Tenure\n",
       "1     12.1%\n",
       "0     11.0%\n",
       "8      4.7%\n",
       "9      4.4%\n",
       "7      4.0%\n",
       "10     3.8%\n",
       "3      3.7%\n",
       "5      3.6%\n",
       "4      3.6%\n",
       "11     3.5%\n",
       "6      3.3%\n",
       "12     3.2%\n",
       "13     3.2%\n",
       "2      3.2%\n",
       "14     3.1%\n",
       "15     2.8%\n",
       "16     2.6%\n",
       "19     2.4%\n",
       "18     2.3%\n",
       "20     1.9%\n",
       "17     1.9%\n",
       "21     1.5%\n",
       "23     1.5%\n",
       "22     1.4%\n",
       "24     1.3%\n",
       "28     1.2%\n",
       "30     1.2%\n",
       "27     1.2%\n",
       "99     1.2%\n",
       "26     1.1%\n",
       "#      1.0%\n",
       "25     1.0%\n",
       "29     1.0%\n",
       "31     0.9%\n",
       "50     0.0%\n",
       "60     0.0%\n",
       "51     0.0%\n",
       "61     0.0%\n",
       "Name: proportion, dtype: object"
      ]
     },
     "execution_count": 82,
     "metadata": {},
     "output_type": "execute_result"
    }
   ],
   "source": [
    "data.Tenure.value_counts(normalize=True).mul(100).round(1).astype(str) + '%'"
   ]
  },
  {
   "cell_type": "code",
   "execution_count": 84,
   "id": "315638d1-4d53-48fe-90bc-66cc70ab64ce",
   "metadata": {},
   "outputs": [],
   "source": [
    "#transform and fill null values\n",
    "data['Tenure'].replace({'#':1}, inplace=True)\n",
    "data[\"Tenure\"].fillna(1, inplace = True)"
   ]
  },
  {
   "cell_type": "markdown",
   "id": "45a445fa-87c4-442d-b7d8-c70e652e920b",
   "metadata": {},
   "source": [
    "<h4>City_Tier"
   ]
  },
  {
   "cell_type": "code",
   "execution_count": 86,
   "id": "472cd610-f4b7-4b5b-a45b-0205cd87bccb",
   "metadata": {},
   "outputs": [
    {
     "data": {
      "text/plain": [
       "array([ 3.,  1., nan,  2.])"
      ]
     },
     "execution_count": 86,
     "metadata": {},
     "output_type": "execute_result"
    }
   ],
   "source": [
    "data.City_Tier.unique()"
   ]
  },
  {
   "cell_type": "code",
   "execution_count": 88,
   "id": "392bb20f-c10b-488c-8b2c-1a953bd80c7f",
   "metadata": {},
   "outputs": [
    {
     "data": {
      "text/plain": [
       "City_Tier\n",
       "1.00    7263\n",
       "3.00    3405\n",
       "2.00     480\n",
       "Name: count, dtype: int64"
      ]
     },
     "execution_count": 88,
     "metadata": {},
     "output_type": "execute_result"
    }
   ],
   "source": [
    "data.City_Tier.value_counts()"
   ]
  },
  {
   "cell_type": "code",
   "execution_count": 90,
   "id": "73157c0b-35b3-4ca1-b830-13cd12d3981b",
   "metadata": {},
   "outputs": [
    {
     "data": {
      "text/plain": [
       "array([3., 1., 2.])"
      ]
     },
     "execution_count": 90,
     "metadata": {},
     "output_type": "execute_result"
    }
   ],
   "source": [
    "#filling null values\n",
    "data[\"City_Tier\"].fillna(1, inplace = True)\n",
    "data.City_Tier.unique()"
   ]
  },
  {
   "cell_type": "markdown",
   "id": "450c50ae-fcb6-4526-8e0c-dc0e43cbf54b",
   "metadata": {},
   "source": [
    "<h4>CC_Contacted_LY"
   ]
  },
  {
   "cell_type": "code",
   "execution_count": 92,
   "id": "bf832784-9336-48c0-86d4-1def42a5c27b",
   "metadata": {},
   "outputs": [
    {
     "data": {
      "text/plain": [
       "array([  6.,   8.,  30.,  15.,  12.,  22.,  11.,   9.,  31.,  18.,  13.,\n",
       "        20.,  29.,  28.,  26.,  14.,  10.,  25.,  27.,  17.,  23.,  33.,\n",
       "        19.,  35.,  24.,  16.,  32.,  21.,  nan,  34.,   5.,   4., 126.,\n",
       "         7.,  36., 127.,  42.,  38.,  37.,  39.,  40.,  41., 132.,  43.,\n",
       "       129.])"
      ]
     },
     "execution_count": 92,
     "metadata": {},
     "output_type": "execute_result"
    }
   ],
   "source": [
    "data.CC_Contacted_LY.unique()"
   ]
  },
  {
   "cell_type": "code",
   "execution_count": 94,
   "id": "0ca203cf-8b30-4765-8fa6-9584c383c511",
   "metadata": {},
   "outputs": [
    {
     "data": {
      "text/plain": [
       "17.867090876501166"
      ]
     },
     "execution_count": 94,
     "metadata": {},
     "output_type": "execute_result"
    }
   ],
   "source": [
    "#Finding the mean value\n",
    "data.CC_Contacted_LY.mean()"
   ]
  },
  {
   "cell_type": "code",
   "execution_count": 96,
   "id": "ce720972-dcae-46c8-a80d-644553c2b34d",
   "metadata": {},
   "outputs": [
    {
     "data": {
      "text/plain": [
       "array([  6.,   8.,  30.,  15.,  12.,  22.,  11.,   9.,  31.,  18.,  13.,\n",
       "        20.,  29.,  28.,  26.,  14.,  10.,  25.,  27.,  17.,  23.,  33.,\n",
       "        19.,  35.,  24.,  16.,  32.,  21.,  34.,   5.,   4., 126.,   7.,\n",
       "        36., 127.,  42.,  38.,  37.,  39.,  40.,  41., 132.,  43., 129.])"
      ]
     },
     "execution_count": 96,
     "metadata": {},
     "output_type": "execute_result"
    }
   ],
   "source": [
    "#filling null values\n",
    "data[\"CC_Contacted_LY\"].fillna(17, inplace = True)\n",
    "data.CC_Contacted_LY.unique()"
   ]
  },
  {
   "cell_type": "markdown",
   "id": "4b5f33cf-188e-4d21-8143-e9d0cce03b62",
   "metadata": {},
   "source": [
    "<h4>Payment"
   ]
  },
  {
   "cell_type": "code",
   "execution_count": 98,
   "id": "64715382-9dbd-4c73-b315-96e9b30beac7",
   "metadata": {},
   "outputs": [
    {
     "data": {
      "text/plain": [
       "array(['Debit Card', 'UPI', 'Credit Card', 'Cash on Delivery', 'E wallet',\n",
       "       nan], dtype=object)"
      ]
     },
     "execution_count": 98,
     "metadata": {},
     "output_type": "execute_result"
    }
   ],
   "source": [
    "data.Payment.unique()"
   ]
  },
  {
   "cell_type": "code",
   "execution_count": 100,
   "id": "e8967b7d-5f37-4f74-87b4-32937b478a1f",
   "metadata": {},
   "outputs": [
    {
     "data": {
      "text/plain": [
       "Payment\n",
       "Debit Card          4587\n",
       "Credit Card         3511\n",
       "E wallet            1217\n",
       "Cash on Delivery    1014\n",
       "UPI                  822\n",
       "Name: count, dtype: int64"
      ]
     },
     "execution_count": 100,
     "metadata": {},
     "output_type": "execute_result"
    }
   ],
   "source": [
    "data.Payment.value_counts()"
   ]
  },
  {
   "cell_type": "code",
   "execution_count": 102,
   "id": "2302b4f1-3b7d-4115-a87f-c8440162ab77",
   "metadata": {},
   "outputs": [
    {
     "data": {
      "text/plain": [
       "array(['Debit Card', 'UPI', 'Credit Card', 'Cash on Delivery', 'E wallet'],\n",
       "      dtype=object)"
      ]
     },
     "execution_count": 102,
     "metadata": {},
     "output_type": "execute_result"
    }
   ],
   "source": [
    "#filling null values\n",
    "data[\"Payment\"].fillna('Debit Card', inplace = True)\n",
    "data.Payment.unique()"
   ]
  },
  {
   "cell_type": "code",
   "execution_count": 104,
   "id": "331207ce-4288-4759-b97e-d33c11ac3d3f",
   "metadata": {},
   "outputs": [
    {
     "data": {
      "text/plain": [
       "Payment\n",
       "Debit Card          4696\n",
       "Credit Card         3511\n",
       "E wallet            1217\n",
       "Cash on Delivery    1014\n",
       "UPI                  822\n",
       "Name: count, dtype: int64"
      ]
     },
     "execution_count": 104,
     "metadata": {},
     "output_type": "execute_result"
    }
   ],
   "source": [
    "data.Payment.value_counts()"
   ]
  },
  {
   "cell_type": "markdown",
   "id": "8783c64a-9682-407e-8eb1-ad16f4f9694b",
   "metadata": {},
   "source": [
    "<h4>Gender"
   ]
  },
  {
   "cell_type": "code",
   "execution_count": 106,
   "id": "5218697e-127b-4a92-8b23-5fef4ce538ef",
   "metadata": {},
   "outputs": [
    {
     "data": {
      "text/plain": [
       "array(['Female', 'Male', 'F', nan, 'M'], dtype=object)"
      ]
     },
     "execution_count": 106,
     "metadata": {},
     "output_type": "execute_result"
    }
   ],
   "source": [
    "data.Gender.unique()"
   ]
  },
  {
   "cell_type": "code",
   "execution_count": 108,
   "id": "5fbc224d-7206-4fa7-b4a2-b4838fbb1391",
   "metadata": {},
   "outputs": [
    {
     "data": {
      "text/plain": [
       "Gender\n",
       "Male      6328\n",
       "Female    4178\n",
       "M          376\n",
       "F          270\n",
       "Name: count, dtype: int64"
      ]
     },
     "execution_count": 108,
     "metadata": {},
     "output_type": "execute_result"
    }
   ],
   "source": [
    "data.Gender.value_counts()"
   ]
  },
  {
   "cell_type": "code",
   "execution_count": 110,
   "id": "155753e8-cd82-41ad-8455-391f3117d318",
   "metadata": {},
   "outputs": [],
   "source": [
    "#  Variable transformation and Removal of unwanted variables : Because Female and F, Male and M are the same entity, they have been merged as F as Female and M as Male.\n",
    "data[\"Gender\"] = data[\"Gender\"].replace(\"F\", \"Female\")\n",
    "data[\"Gender\"] = data[\"Gender\"].replace(\"M\", \"Male\")"
   ]
  },
  {
   "cell_type": "code",
   "execution_count": 112,
   "id": "8b682a88-de7e-413c-ad94-c7fa4d1b3ad5",
   "metadata": {},
   "outputs": [
    {
     "data": {
      "text/plain": [
       "array(['Female', 'Male'], dtype=object)"
      ]
     },
     "execution_count": 112,
     "metadata": {},
     "output_type": "execute_result"
    }
   ],
   "source": [
    "#filling null values\n",
    "data[\"Gender\"].fillna('Male', inplace = True)\n",
    "data.Gender.unique()"
   ]
  },
  {
   "cell_type": "code",
   "execution_count": 114,
   "id": "1b3658f8-41dd-4c30-9f6b-7549f5f8c253",
   "metadata": {},
   "outputs": [
    {
     "data": {
      "text/plain": [
       "Gender\n",
       "Male      6812\n",
       "Female    4448\n",
       "Name: count, dtype: int64"
      ]
     },
     "execution_count": 114,
     "metadata": {},
     "output_type": "execute_result"
    }
   ],
   "source": [
    "data.Gender.value_counts()"
   ]
  },
  {
   "cell_type": "markdown",
   "id": "4d8626a2-dd4a-4148-b497-f81e892d2d52",
   "metadata": {},
   "source": [
    "<h4>Service_Score"
   ]
  },
  {
   "cell_type": "code",
   "execution_count": 116,
   "id": "d69a78ea-04a3-4faa-bdba-55fb320cd171",
   "metadata": {},
   "outputs": [
    {
     "data": {
      "text/plain": [
       "array([ 3.,  2.,  1., nan,  0.,  4.,  5.])"
      ]
     },
     "execution_count": 116,
     "metadata": {},
     "output_type": "execute_result"
    }
   ],
   "source": [
    "data.Service_Score.unique()"
   ]
  },
  {
   "cell_type": "code",
   "execution_count": 118,
   "id": "74dcf0a6-32d2-4bb3-9ddf-8e37c3c8c867",
   "metadata": {},
   "outputs": [
    {
     "data": {
      "text/plain": [
       "Service_Score\n",
       "3.00    5490\n",
       "2.00    3251\n",
       "4.00    2331\n",
       "1.00      77\n",
       "0.00       8\n",
       "5.00       5\n",
       "Name: count, dtype: int64"
      ]
     },
     "execution_count": 118,
     "metadata": {},
     "output_type": "execute_result"
    }
   ],
   "source": [
    "data.Service_Score.value_counts()"
   ]
  },
  {
   "cell_type": "code",
   "execution_count": 120,
   "id": "f9728e85-d5c7-4e5a-a537-071f5912f63b",
   "metadata": {},
   "outputs": [
    {
     "data": {
      "text/plain": [
       "2.9025264289553845"
      ]
     },
     "execution_count": 120,
     "metadata": {},
     "output_type": "execute_result"
    }
   ],
   "source": [
    "data.Service_Score.mean()"
   ]
  },
  {
   "cell_type": "code",
   "execution_count": 122,
   "id": "a32a24be-7ec1-419b-b85b-7c07bb010b30",
   "metadata": {},
   "outputs": [
    {
     "data": {
      "text/plain": [
       "array([3., 2., 1., 0., 4., 5.])"
      ]
     },
     "execution_count": 122,
     "metadata": {},
     "output_type": "execute_result"
    }
   ],
   "source": [
    "#filling null values\n",
    "data[\"Service_Score\"].fillna(3, inplace = True)\n",
    "data.Service_Score.unique()"
   ]
  },
  {
   "cell_type": "markdown",
   "id": "b67668b7-866b-41d3-8d86-56c49d8d1046",
   "metadata": {},
   "source": [
    "<h4>Account_user_count"
   ]
  },
  {
   "cell_type": "code",
   "execution_count": 124,
   "id": "d4723dca-01db-4e31-8818-5597bd57a4ed",
   "metadata": {},
   "outputs": [
    {
     "data": {
      "text/plain": [
       "array([3, 4, nan, 5, 2, '@', 1, 6], dtype=object)"
      ]
     },
     "execution_count": 124,
     "metadata": {},
     "output_type": "execute_result"
    }
   ],
   "source": [
    "data.Account_user_count .unique()"
   ]
  },
  {
   "cell_type": "code",
   "execution_count": 126,
   "id": "b09f75be-9f6f-4948-a67c-2475f37a5c32",
   "metadata": {},
   "outputs": [
    {
     "data": {
      "text/plain": [
       "Account_user_count\n",
       "4    4569\n",
       "3    3261\n",
       "5    1699\n",
       "2     526\n",
       "1     446\n",
       "@     332\n",
       "6     315\n",
       "Name: count, dtype: int64"
      ]
     },
     "execution_count": 126,
     "metadata": {},
     "output_type": "execute_result"
    }
   ],
   "source": [
    "data.Account_user_count.value_counts()"
   ]
  },
  {
   "cell_type": "code",
   "execution_count": 128,
   "id": "8ab5f6e5-d760-45d7-a0a8-b7ac52d22e10",
   "metadata": {},
   "outputs": [],
   "source": [
    "# filling null values\n",
    "data[\"Account_user_count\"].fillna(4, inplace = True)\n",
    "# Variable transformation\n",
    "data['Account_user_count'].replace({'@':4}, inplace=True)"
   ]
  },
  {
   "cell_type": "code",
   "execution_count": 130,
   "id": "6258a381-9e19-4745-b096-fed72b9e1fa6",
   "metadata": {},
   "outputs": [
    {
     "data": {
      "text/plain": [
       "array([3, 4, 5, 2, 1, 6], dtype=int64)"
      ]
     },
     "execution_count": 130,
     "metadata": {},
     "output_type": "execute_result"
    }
   ],
   "source": [
    "#after filling null values and transforming Variables\n",
    "data.Account_user_count .unique()"
   ]
  },
  {
   "cell_type": "code",
   "execution_count": 132,
   "id": "b258fe33-1f8b-4224-87ae-ea1699c4ce50",
   "metadata": {},
   "outputs": [
    {
     "data": {
      "text/plain": [
       "Account_user_count\n",
       "4    5013\n",
       "3    3261\n",
       "5    1699\n",
       "2     526\n",
       "1     446\n",
       "6     315\n",
       "Name: count, dtype: int64"
      ]
     },
     "execution_count": 132,
     "metadata": {},
     "output_type": "execute_result"
    }
   ],
   "source": [
    "data.Account_user_count.value_counts()"
   ]
  },
  {
   "cell_type": "markdown",
   "id": "9ff390cd-edc8-4a35-8340-03e939cffa02",
   "metadata": {},
   "source": [
    "<h4>account_segment"
   ]
  },
  {
   "cell_type": "code",
   "execution_count": 134,
   "id": "756ffc7b-ffb5-40f7-bfcc-b8d9ee9f75d5",
   "metadata": {},
   "outputs": [
    {
     "data": {
      "text/plain": [
       "array(['Super', 'Regular Plus', 'Regular', 'HNI', 'Regular +', nan,\n",
       "       'Super Plus', 'Super +'], dtype=object)"
      ]
     },
     "execution_count": 134,
     "metadata": {},
     "output_type": "execute_result"
    }
   ],
   "source": [
    "data.account_segment.unique()"
   ]
  },
  {
   "cell_type": "code",
   "execution_count": 136,
   "id": "188c81da-7f76-4356-9ccf-b3f2003b5456",
   "metadata": {},
   "outputs": [
    {
     "data": {
      "text/plain": [
       "account_segment\n",
       "Super           4062\n",
       "Regular Plus    3862\n",
       "HNI             1639\n",
       "Super Plus       771\n",
       "Regular          520\n",
       "Regular +        262\n",
       "Super +           47\n",
       "Name: count, dtype: int64"
      ]
     },
     "execution_count": 136,
     "metadata": {},
     "output_type": "execute_result"
    }
   ],
   "source": [
    "data.account_segment.value_counts()"
   ]
  },
  {
   "cell_type": "markdown",
   "id": "3205047e-bb7f-49a6-98e9-6109f83cc09a",
   "metadata": {},
   "source": [
    "Variable transformation and Removal of unwanted variables : Because Regular plus and Regular +, Super Plus and Super + are the same entity, they have been merge."
   ]
  },
  {
   "cell_type": "code",
   "execution_count": 139,
   "id": "b5949f41-9f85-43a1-b1bb-73d3affd6c51",
   "metadata": {},
   "outputs": [],
   "source": [
    "data[\"account_segment\"] = data[\"account_segment\"].replace(\"Regular +\", \"Regular Plus\")\n",
    "data[\"account_segment\"] = data[\"account_segment\"].replace(\"Super +\", \"Super Plus\")"
   ]
  },
  {
   "cell_type": "code",
   "execution_count": 141,
   "id": "ad4afac9-9838-4286-bdb2-24e00e163fa3",
   "metadata": {},
   "outputs": [
    {
     "data": {
      "text/plain": [
       "array(['Super', 'Regular Plus', 'Regular', 'HNI', 'Super Plus'],\n",
       "      dtype=object)"
      ]
     },
     "execution_count": 141,
     "metadata": {},
     "output_type": "execute_result"
    }
   ],
   "source": [
    "#filling null values\n",
    "data[\"account_segment\"].fillna('Super', inplace = True)\n",
    "data.account_segment.unique()"
   ]
  },
  {
   "cell_type": "code",
   "execution_count": 143,
   "id": "7d65a63c-7366-4dd7-91b5-47c7e6330941",
   "metadata": {},
   "outputs": [
    {
     "data": {
      "text/plain": [
       "account_segment\n",
       "Super           4159\n",
       "Regular Plus    4124\n",
       "HNI             1639\n",
       "Super Plus       818\n",
       "Regular          520\n",
       "Name: count, dtype: int64"
      ]
     },
     "execution_count": 143,
     "metadata": {},
     "output_type": "execute_result"
    }
   ],
   "source": [
    "data.account_segment.value_counts()"
   ]
  },
  {
   "cell_type": "markdown",
   "id": "a794f1f7-2f94-45ef-95d0-49d71d910079",
   "metadata": {},
   "source": [
    "<h4>CC_Agent_Score"
   ]
  },
  {
   "cell_type": "code",
   "execution_count": 145,
   "id": "db620802-19ef-45a9-ab6d-eb3d4fe0a6cd",
   "metadata": {},
   "outputs": [
    {
     "data": {
      "text/plain": [
       "array([ 2.,  3.,  5.,  4., nan,  1.])"
      ]
     },
     "execution_count": 145,
     "metadata": {},
     "output_type": "execute_result"
    }
   ],
   "source": [
    "data.CC_Agent_Score.unique()"
   ]
  },
  {
   "cell_type": "code",
   "execution_count": 147,
   "id": "820e3217-f812-4315-bcde-9cb2d84c63b6",
   "metadata": {},
   "outputs": [
    {
     "data": {
      "text/plain": [
       "CC_Agent_Score\n",
       "3.00    3360\n",
       "1.00    2302\n",
       "5.00    2191\n",
       "4.00    2127\n",
       "2.00    1164\n",
       "Name: count, dtype: int64"
      ]
     },
     "execution_count": 147,
     "metadata": {},
     "output_type": "execute_result"
    }
   ],
   "source": [
    "data.CC_Agent_Score.value_counts()"
   ]
  },
  {
   "cell_type": "code",
   "execution_count": 149,
   "id": "a1b17e01-2356-4266-87df-710396c38719",
   "metadata": {},
   "outputs": [
    {
     "data": {
      "text/plain": [
       "array([2., 3., 5., 4., 1.])"
      ]
     },
     "execution_count": 149,
     "metadata": {},
     "output_type": "execute_result"
    }
   ],
   "source": [
    "#filling null values\n",
    "data[\"CC_Agent_Score\"].fillna(3, inplace = True)\n",
    "data.CC_Agent_Score.unique()"
   ]
  },
  {
   "cell_type": "code",
   "execution_count": 151,
   "id": "0be30920-2d19-40c4-8395-56b11ab4fb08",
   "metadata": {},
   "outputs": [
    {
     "data": {
      "text/plain": [
       "CC_Agent_Score\n",
       "3.00    3476\n",
       "1.00    2302\n",
       "5.00    2191\n",
       "4.00    2127\n",
       "2.00    1164\n",
       "Name: count, dtype: int64"
      ]
     },
     "execution_count": 151,
     "metadata": {},
     "output_type": "execute_result"
    }
   ],
   "source": [
    "data.CC_Agent_Score.value_counts()"
   ]
  },
  {
   "cell_type": "markdown",
   "id": "b401d5d0-7ca0-460b-bd7d-6f9fff249348",
   "metadata": {},
   "source": [
    "<h4>Marital_Status"
   ]
  },
  {
   "cell_type": "code",
   "execution_count": 153,
   "id": "540c7fc1-6909-4ce0-8056-e0997fab4dc2",
   "metadata": {},
   "outputs": [
    {
     "data": {
      "text/plain": [
       "array(['Single', 'Divorced', 'Married', nan], dtype=object)"
      ]
     },
     "execution_count": 153,
     "metadata": {},
     "output_type": "execute_result"
    }
   ],
   "source": [
    "data.Marital_Status.unique()"
   ]
  },
  {
   "cell_type": "code",
   "execution_count": 155,
   "id": "c69d6e28-c291-4e2a-9b9a-90a975136203",
   "metadata": {},
   "outputs": [
    {
     "data": {
      "text/plain": [
       "Marital_Status\n",
       "Married     5860\n",
       "Single      3520\n",
       "Divorced    1668\n",
       "Name: count, dtype: int64"
      ]
     },
     "execution_count": 155,
     "metadata": {},
     "output_type": "execute_result"
    }
   ],
   "source": [
    "data.Marital_Status.value_counts()"
   ]
  },
  {
   "cell_type": "code",
   "execution_count": 157,
   "id": "63f629bf-620f-4cbc-a664-49a6e52ec928",
   "metadata": {},
   "outputs": [
    {
     "data": {
      "text/plain": [
       "Marital_Status\n",
       "Married     6072\n",
       "Single      3520\n",
       "Divorced    1668\n",
       "Name: count, dtype: int64"
      ]
     },
     "execution_count": 157,
     "metadata": {},
     "output_type": "execute_result"
    }
   ],
   "source": [
    "#filling null values\n",
    "data[\"Marital_Status\"].fillna('Married', inplace = True)\n",
    "data.Marital_Status.value_counts()"
   ]
  },
  {
   "cell_type": "code",
   "execution_count": 159,
   "id": "eab5c1f6-1994-4b0c-a5e2-6093c070f08c",
   "metadata": {},
   "outputs": [
    {
     "data": {
      "text/plain": [
       "array(['Single', 'Divorced', 'Married'], dtype=object)"
      ]
     },
     "execution_count": 159,
     "metadata": {},
     "output_type": "execute_result"
    }
   ],
   "source": [
    "data.Marital_Status.unique()"
   ]
  },
  {
   "cell_type": "markdown",
   "id": "484bf9c6-4766-42e2-b2b8-9565cf3b39e9",
   "metadata": {},
   "source": [
    "<h4>rev_per_month"
   ]
  },
  {
   "cell_type": "code",
   "execution_count": 161,
   "id": "3372cda1-710a-43e2-bfe1-22373ec2f71f",
   "metadata": {},
   "outputs": [
    {
     "data": {
      "text/plain": [
       "array([9, 7, 6, 8, 3, 2, 4, 10, 1, 5, '+', 130, nan, 19, 139, 102, 120,\n",
       "       138, 127, 123, 124, 116, 21, 126, 134, 113, 114, 108, 140, 133,\n",
       "       129, 107, 118, 11, 105, 20, 119, 121, 137, 110, 22, 101, 136, 125,\n",
       "       14, 13, 12, 115, 23, 122, 117, 131, 104, 15, 25, 135, 111, 109,\n",
       "       100, 103], dtype=object)"
      ]
     },
     "execution_count": 161,
     "metadata": {},
     "output_type": "execute_result"
    }
   ],
   "source": [
    "data.rev_per_month.unique()"
   ]
  },
  {
   "cell_type": "code",
   "execution_count": 174,
   "id": "ad5945c3-03d9-4450-899e-e5ea00ccc081",
   "metadata": {
    "scrolled": true
   },
   "outputs": [
    {
     "data": {
      "text/plain": [
       "rev_per_month\n",
       "3      2537\n",
       "2      1585\n",
       "5      1337\n",
       "4      1218\n",
       "6      1085\n",
       "7       754\n",
       "8       643\n",
       "9       564\n",
       "10      413\n",
       "1       402\n",
       "11      278\n",
       "12      166\n",
       "13       93\n",
       "14       48\n",
       "15       24\n",
       "102       8\n",
       "124       5\n",
       "107       5\n",
       "123       5\n",
       "140       4\n",
       "118       4\n",
       "129       4\n",
       "133       4\n",
       "136       4\n",
       "117       3\n",
       "108       3\n",
       "101       3\n",
       "116       3\n",
       "110       3\n",
       "137       3\n",
       "119       3\n",
       "115       3\n",
       "138       3\n",
       "130       3\n",
       "126       3\n",
       "113       3\n",
       "127       3\n",
       "19        2\n",
       "139       2\n",
       "120       2\n",
       "131       2\n",
       "22        2\n",
       "125       2\n",
       "121       2\n",
       "105       2\n",
       "114       2\n",
       "134       2\n",
       "20        1\n",
       "23        1\n",
       "122       1\n",
       "104       1\n",
       "21        1\n",
       "25        1\n",
       "135       1\n",
       "111       1\n",
       "109       1\n",
       "100       1\n",
       "103       1\n",
       "Name: count, dtype: int64"
      ]
     },
     "execution_count": 174,
     "metadata": {},
     "output_type": "execute_result"
    }
   ],
   "source": [
    "data.rev_per_month.value_counts()"
   ]
  },
  {
   "cell_type": "code",
   "execution_count": 170,
   "id": "17e95b16-e56a-4454-a94b-c8aae20ab590",
   "metadata": {},
   "outputs": [],
   "source": [
    "#filling null values\n",
    "data[\"rev_per_month\"].fillna(3, inplace = True)\n",
    "#  Variable transformation\n",
    "data['rev_per_month'].replace({'+':3}, inplace=True)"
   ]
  },
  {
   "cell_type": "code",
   "execution_count": 172,
   "id": "2808e53a-4d74-4313-acc6-1299e9a17d12",
   "metadata": {},
   "outputs": [
    {
     "data": {
      "text/plain": [
       "array([  9,   7,   6,   8,   3,   2,   4,  10,   1,   5, 130,  19, 139,\n",
       "       102, 120, 138, 127, 123, 124, 116,  21, 126, 134, 113, 114, 108,\n",
       "       140, 133, 129, 107, 118,  11, 105,  20, 119, 121, 137, 110,  22,\n",
       "       101, 136, 125,  14,  13,  12, 115,  23, 122, 117, 131, 104,  15,\n",
       "        25, 135, 111, 109, 100, 103], dtype=int64)"
      ]
     },
     "execution_count": 172,
     "metadata": {},
     "output_type": "execute_result"
    }
   ],
   "source": [
    "#after filling null values and transforming Variables\n",
    "data.rev_per_month.unique()"
   ]
  },
  {
   "cell_type": "markdown",
   "id": "52c45ad3-94bd-46db-966b-94c0d2706aa6",
   "metadata": {},
   "source": [
    "<h4>Complain_ly"
   ]
  },
  {
   "cell_type": "code",
   "execution_count": 176,
   "id": "1391d8c8-d2ab-4229-80d9-8b71d8e3ed04",
   "metadata": {},
   "outputs": [
    {
     "data": {
      "text/plain": [
       "array([ 1.,  0., nan])"
      ]
     },
     "execution_count": 176,
     "metadata": {},
     "output_type": "execute_result"
    }
   ],
   "source": [
    "data.Complain_ly.unique()"
   ]
  },
  {
   "cell_type": "code",
   "execution_count": 178,
   "id": "e967ce85-7600-43d5-b102-f75bdaf2d14e",
   "metadata": {},
   "outputs": [
    {
     "data": {
      "text/plain": [
       "Complain_ly\n",
       "0.00    7792\n",
       "1.00    3111\n",
       "Name: count, dtype: int64"
      ]
     },
     "execution_count": 178,
     "metadata": {},
     "output_type": "execute_result"
    }
   ],
   "source": [
    "data.Complain_ly.value_counts()"
   ]
  },
  {
   "cell_type": "code",
   "execution_count": 180,
   "id": "f28678dc-aea4-4546-b0dd-4570cd3921d5",
   "metadata": {},
   "outputs": [
    {
     "data": {
      "text/plain": [
       "array([1., 0.])"
      ]
     },
     "execution_count": 180,
     "metadata": {},
     "output_type": "execute_result"
    }
   ],
   "source": [
    "#filling null values\n",
    "data[\"Complain_ly\"].fillna(0, inplace = True)\n",
    "data.Complain_ly.unique()"
   ]
  },
  {
   "cell_type": "code",
   "execution_count": 182,
   "id": "a390d502-8199-405b-b4f3-a6d5dac8cbe0",
   "metadata": {},
   "outputs": [
    {
     "data": {
      "text/plain": [
       "Complain_ly\n",
       "0.00    8149\n",
       "1.00    3111\n",
       "Name: count, dtype: int64"
      ]
     },
     "execution_count": 182,
     "metadata": {},
     "output_type": "execute_result"
    }
   ],
   "source": [
    "data.Complain_ly.value_counts()"
   ]
  },
  {
   "cell_type": "markdown",
   "id": "3b790689-021b-4c02-87e0-b3681a15fda4",
   "metadata": {},
   "source": [
    "<h4>rev_growth_yoy"
   ]
  },
  {
   "cell_type": "code",
   "execution_count": 184,
   "id": "0dbe2127-7416-489c-a610-0888f41068aa",
   "metadata": {},
   "outputs": [
    {
     "data": {
      "text/plain": [
       "array([11, 15, 14, 23, 22, 16, 12, 13, 17, 18, 24, 19, 20, 21, 25, 26,\n",
       "       '$', 4, 27, 28], dtype=object)"
      ]
     },
     "execution_count": 184,
     "metadata": {},
     "output_type": "execute_result"
    }
   ],
   "source": [
    "data.rev_growth_yoy.unique()"
   ]
  },
  {
   "cell_type": "code",
   "execution_count": 186,
   "id": "b01b8e35-7871-490b-8285-e52672cb0ad6",
   "metadata": {
    "scrolled": true
   },
   "outputs": [
    {
     "data": {
      "text/plain": [
       "rev_growth_yoy\n",
       "14    1524\n",
       "13    1427\n",
       "15    1283\n",
       "12    1210\n",
       "16     949\n",
       "18     708\n",
       "17     704\n",
       "19     619\n",
       "20     562\n",
       "11     523\n",
       "21     433\n",
       "22     403\n",
       "23     345\n",
       "24     229\n",
       "25     188\n",
       "26      98\n",
       "27      35\n",
       "28      14\n",
       "$        3\n",
       "4        3\n",
       "Name: count, dtype: int64"
      ]
     },
     "execution_count": 186,
     "metadata": {},
     "output_type": "execute_result"
    }
   ],
   "source": [
    "data.rev_growth_yoy.value_counts()"
   ]
  },
  {
   "cell_type": "code",
   "execution_count": 188,
   "id": "19813909-6d40-423a-bdc0-1d44d9de85f1",
   "metadata": {},
   "outputs": [
    {
     "data": {
      "text/plain": [
       "rev_growth_yoy\n",
       "14    1527\n",
       "13    1427\n",
       "15    1283\n",
       "12    1210\n",
       "16     949\n",
       "18     708\n",
       "17     704\n",
       "19     619\n",
       "20     562\n",
       "11     523\n",
       "21     433\n",
       "22     403\n",
       "23     345\n",
       "24     229\n",
       "25     188\n",
       "26      98\n",
       "27      35\n",
       "28      14\n",
       "4        3\n",
       "Name: count, dtype: int64"
      ]
     },
     "execution_count": 188,
     "metadata": {},
     "output_type": "execute_result"
    }
   ],
   "source": [
    "#  Variable transformation\n",
    "data['rev_growth_yoy'].replace({'$':14}, inplace=True)\n",
    "data.rev_growth_yoy.value_counts()"
   ]
  },
  {
   "cell_type": "markdown",
   "id": "0967f26c-0f00-4e79-804f-56e6f41bcc3a",
   "metadata": {},
   "source": [
    "<h4>coupon_used_for_payment"
   ]
  },
  {
   "cell_type": "code",
   "execution_count": 190,
   "id": "dcab63c3-814c-4d04-a6b1-513abee6eb15",
   "metadata": {},
   "outputs": [
    {
     "data": {
      "text/plain": [
       "array([1, 0, 4, 2, 9, 6, 11, 7, 12, 10, 5, 3, 13, 15, 8, '#', '$', 14,\n",
       "       '*', 16], dtype=object)"
      ]
     },
     "execution_count": 190,
     "metadata": {},
     "output_type": "execute_result"
    }
   ],
   "source": [
    "data.coupon_used_for_payment.unique()"
   ]
  },
  {
   "cell_type": "code",
   "execution_count": 192,
   "id": "843f5667-63ee-443b-bf1e-fcfb691cf9f4",
   "metadata": {},
   "outputs": [
    {
     "data": {
      "text/plain": [
       "coupon_used_for_payment\n",
       "1     4373\n",
       "2     2656\n",
       "0     2150\n",
       "3      698\n",
       "4      424\n",
       "5      284\n",
       "6      234\n",
       "7      184\n",
       "8       88\n",
       "10      34\n",
       "9       34\n",
       "11      30\n",
       "12      26\n",
       "13      22\n",
       "14      12\n",
       "15       4\n",
       "16       4\n",
       "#        1\n",
       "$        1\n",
       "*        1\n",
       "Name: count, dtype: int64"
      ]
     },
     "execution_count": 192,
     "metadata": {},
     "output_type": "execute_result"
    }
   ],
   "source": [
    "data.coupon_used_for_payment.value_counts()"
   ]
  },
  {
   "cell_type": "code",
   "execution_count": 194,
   "id": "13b6dc57-2ac0-4661-844f-0db3d2f81d86",
   "metadata": {},
   "outputs": [],
   "source": [
    "#  Variable transformation\n",
    "data['coupon_used_for_payment'].replace({'#':1}, inplace=True)\n",
    "data['coupon_used_for_payment'].replace({'$':1}, inplace=True)\n",
    "data['coupon_used_for_payment'].replace({'*':1}, inplace=True)"
   ]
  },
  {
   "cell_type": "code",
   "execution_count": 196,
   "id": "f9dc5ac7-8f51-40d9-8374-05ebc8ea7dc0",
   "metadata": {},
   "outputs": [
    {
     "data": {
      "text/plain": [
       "array([ 1,  0,  4,  2,  9,  6, 11,  7, 12, 10,  5,  3, 13, 15,  8, 14, 16],\n",
       "      dtype=int64)"
      ]
     },
     "execution_count": 196,
     "metadata": {},
     "output_type": "execute_result"
    }
   ],
   "source": [
    "#After variable transformation\n",
    "data.coupon_used_for_payment.unique()"
   ]
  },
  {
   "cell_type": "code",
   "execution_count": 198,
   "id": "dd9aae4f-7d5e-489a-b72b-8d8ec2f88dd5",
   "metadata": {},
   "outputs": [
    {
     "data": {
      "text/plain": [
       "coupon_used_for_payment\n",
       "1     4376\n",
       "2     2656\n",
       "0     2150\n",
       "3      698\n",
       "4      424\n",
       "5      284\n",
       "6      234\n",
       "7      184\n",
       "8       88\n",
       "9       34\n",
       "10      34\n",
       "11      30\n",
       "12      26\n",
       "13      22\n",
       "14      12\n",
       "15       4\n",
       "16       4\n",
       "Name: count, dtype: int64"
      ]
     },
     "execution_count": 198,
     "metadata": {},
     "output_type": "execute_result"
    }
   ],
   "source": [
    "data.coupon_used_for_payment.value_counts()"
   ]
  },
  {
   "cell_type": "markdown",
   "id": "6ed7b632-3634-43cf-a88a-df516ada4e83",
   "metadata": {},
   "source": [
    "<h4>Day_Since_CC_connect"
   ]
  },
  {
   "cell_type": "code",
   "execution_count": 200,
   "id": "d0f9227a-31c1-42ea-aefd-acd8e87e83ca",
   "metadata": {},
   "outputs": [
    {
     "data": {
      "text/plain": [
       "array([5, 0, 3, 7, 2, 1, 8, 6, 4, 15, nan, 11, 10, 9, 13, 12, 17, 16, 14,\n",
       "       30, '$', 46, 18, 31, 47], dtype=object)"
      ]
     },
     "execution_count": 200,
     "metadata": {},
     "output_type": "execute_result"
    }
   ],
   "source": [
    "data.Day_Since_CC_connect.unique()"
   ]
  },
  {
   "cell_type": "code",
   "execution_count": 202,
   "id": "34b21d44-ea52-4cdf-88fa-41a197a7e8c3",
   "metadata": {},
   "outputs": [
    {
     "data": {
      "text/plain": [
       "Day_Since_CC_connect\n",
       "3     1816\n",
       "2     1574\n",
       "1     1256\n",
       "8     1169\n",
       "0      964\n",
       "7      911\n",
       "4      893\n",
       "9      622\n",
       "5      479\n",
       "10     339\n",
       "6      229\n",
       "11     183\n",
       "12     146\n",
       "13     117\n",
       "14      74\n",
       "15      37\n",
       "17      34\n",
       "16      26\n",
       "18      26\n",
       "30       2\n",
       "31       2\n",
       "47       2\n",
       "$        1\n",
       "46       1\n",
       "Name: count, dtype: int64"
      ]
     },
     "execution_count": 202,
     "metadata": {},
     "output_type": "execute_result"
    }
   ],
   "source": [
    "data.Day_Since_CC_connect.value_counts()"
   ]
  },
  {
   "cell_type": "code",
   "execution_count": 204,
   "id": "b3cfe207-dcf6-4956-af94-d5809abc6209",
   "metadata": {},
   "outputs": [],
   "source": [
    "# Variable transformation\n",
    "data['Day_Since_CC_connect'].replace({'$':3}, inplace=True)\n",
    "# filling null values\n",
    "data[\"Day_Since_CC_connect\"].fillna(3, inplace = True)"
   ]
  },
  {
   "cell_type": "code",
   "execution_count": 206,
   "id": "69774488-01ec-4114-9b67-fb5ca62d1f7f",
   "metadata": {},
   "outputs": [
    {
     "data": {
      "text/plain": [
       "array([ 5.,  0.,  3.,  7.,  2.,  1.,  8.,  6.,  4., 15., 11., 10.,  9.,\n",
       "       13., 12., 17., 16., 14., 30., 46., 18., 31., 47.])"
      ]
     },
     "execution_count": 206,
     "metadata": {},
     "output_type": "execute_result"
    }
   ],
   "source": [
    "data.Day_Since_CC_connect.unique()"
   ]
  },
  {
   "cell_type": "code",
   "execution_count": 208,
   "id": "583fc1df-ba3f-4cfd-ae57-b556ce50dca1",
   "metadata": {},
   "outputs": [
    {
     "data": {
      "text/plain": [
       "Day_Since_CC_connect\n",
       "3.00     2174\n",
       "2.00     1574\n",
       "1.00     1256\n",
       "8.00     1169\n",
       "0.00      964\n",
       "7.00      911\n",
       "4.00      893\n",
       "9.00      622\n",
       "5.00      479\n",
       "10.00     339\n",
       "6.00      229\n",
       "11.00     183\n",
       "12.00     146\n",
       "13.00     117\n",
       "14.00      74\n",
       "15.00      37\n",
       "17.00      34\n",
       "16.00      26\n",
       "18.00      26\n",
       "30.00       2\n",
       "31.00       2\n",
       "47.00       2\n",
       "46.00       1\n",
       "Name: count, dtype: int64"
      ]
     },
     "execution_count": 208,
     "metadata": {},
     "output_type": "execute_result"
    }
   ],
   "source": [
    "data.Day_Since_CC_connect.value_counts()"
   ]
  },
  {
   "cell_type": "markdown",
   "id": "990c5509-8dd2-4f24-9962-41ea3259001a",
   "metadata": {},
   "source": [
    "<h4>cashback"
   ]
  },
  {
   "cell_type": "code",
   "execution_count": 210,
   "id": "53f97084-2a3d-4184-95df-8086d5567e70",
   "metadata": {},
   "outputs": [
    {
     "data": {
      "text/plain": [
       "array([159.93, 120.9, nan, ..., 227.36, 226.91, 191.42], dtype=object)"
      ]
     },
     "execution_count": 210,
     "metadata": {},
     "output_type": "execute_result"
    }
   ],
   "source": [
    "data.cashback.unique()"
   ]
  },
  {
   "cell_type": "code",
   "execution_count": 212,
   "id": "4feadbd7-0177-42bb-9384-59c9fe49a876",
   "metadata": {},
   "outputs": [
    {
     "data": {
      "text/plain": [
       "cashback\n",
       "155.62    10\n",
       "149.36     9\n",
       "154.73     9\n",
       "145.08     9\n",
       "149.68     9\n",
       "          ..\n",
       "131.55     1\n",
       "245.64     1\n",
       "130.78     1\n",
       "299.72     1\n",
       "191.42     1\n",
       "Name: count, Length: 5693, dtype: int64"
      ]
     },
     "execution_count": 212,
     "metadata": {},
     "output_type": "execute_result"
    }
   ],
   "source": [
    "data.cashback.value_counts()"
   ]
  },
  {
   "cell_type": "code",
   "execution_count": 214,
   "id": "6a8310f4-5b69-4f87-b394-c1f2184e6a14",
   "metadata": {},
   "outputs": [],
   "source": [
    "# Variable transformation\n",
    "data['cashback'].replace({'$':152}, inplace=True)\n",
    "# filling null values\n",
    "data[\"cashback\"].fillna(152, inplace = True)"
   ]
  },
  {
   "cell_type": "code",
   "execution_count": 216,
   "id": "a1fa224f-48e5-40ce-aa27-394a5ad263ae",
   "metadata": {},
   "outputs": [
    {
     "data": {
      "text/plain": [
       "array([159.93, 120.9 , 152.  , ..., 227.36, 226.91, 191.42])"
      ]
     },
     "execution_count": 216,
     "metadata": {},
     "output_type": "execute_result"
    }
   ],
   "source": [
    "data.cashback.unique()"
   ]
  },
  {
   "cell_type": "code",
   "execution_count": 218,
   "id": "68775303-01eb-4a97-b382-9c8828c4c251",
   "metadata": {},
   "outputs": [
    {
     "data": {
      "text/plain": [
       "cashback\n",
       "152.00    476\n",
       "155.62     10\n",
       "149.36      9\n",
       "149.68      9\n",
       "154.73      9\n",
       "         ... \n",
       "131.55      1\n",
       "245.64      1\n",
       "130.78      1\n",
       "299.72      1\n",
       "191.42      1\n",
       "Name: count, Length: 5692, dtype: int64"
      ]
     },
     "execution_count": 218,
     "metadata": {},
     "output_type": "execute_result"
    }
   ],
   "source": [
    "data.cashback.value_counts()"
   ]
  },
  {
   "cell_type": "markdown",
   "id": "c816fba6-154c-42c2-b200-0b19403cfc78",
   "metadata": {},
   "source": [
    "<h4>Login_device"
   ]
  },
  {
   "cell_type": "code",
   "execution_count": 220,
   "id": "71edb708-9828-4a2f-b4ab-790cd5e497fa",
   "metadata": {},
   "outputs": [
    {
     "data": {
      "text/plain": [
       "array(['Mobile', 'Computer', '&&&&', nan], dtype=object)"
      ]
     },
     "execution_count": 220,
     "metadata": {},
     "output_type": "execute_result"
    }
   ],
   "source": [
    "data.Login_device.unique()"
   ]
  },
  {
   "cell_type": "code",
   "execution_count": 222,
   "id": "d00b924a-7c12-46cd-ba88-f58d72e27f92",
   "metadata": {},
   "outputs": [
    {
     "data": {
      "text/plain": [
       "Login_device\n",
       "Mobile      7482\n",
       "Computer    3018\n",
       "&&&&         539\n",
       "Name: count, dtype: int64"
      ]
     },
     "execution_count": 222,
     "metadata": {},
     "output_type": "execute_result"
    }
   ],
   "source": [
    "data.Login_device.value_counts()"
   ]
  },
  {
   "cell_type": "code",
   "execution_count": 224,
   "id": "d44f8e03-e660-423a-a504-2287f2eb7b34",
   "metadata": {},
   "outputs": [],
   "source": [
    "#  Variable transformation\n",
    "data['Login_device'].replace({'&&&&':'others'}, inplace=True)\n",
    "\n",
    "#  Filling null values\n",
    "data[\"Login_device\"].fillna('Mobile', inplace = True)"
   ]
  },
  {
   "cell_type": "code",
   "execution_count": 226,
   "id": "634b0456-6a39-44d9-8445-0eb6e8088369",
   "metadata": {},
   "outputs": [
    {
     "data": {
      "text/plain": [
       "array(['Mobile', 'Computer', 'others'], dtype=object)"
      ]
     },
     "execution_count": 226,
     "metadata": {},
     "output_type": "execute_result"
    }
   ],
   "source": [
    "data.Login_device.unique()"
   ]
  },
  {
   "cell_type": "code",
   "execution_count": 228,
   "id": "36425003-cda4-41d2-baab-789c9f10d9c2",
   "metadata": {},
   "outputs": [
    {
     "data": {
      "text/plain": [
       "Login_device\n",
       "Mobile      7703\n",
       "Computer    3018\n",
       "others       539\n",
       "Name: count, dtype: int64"
      ]
     },
     "execution_count": 228,
     "metadata": {},
     "output_type": "execute_result"
    }
   ],
   "source": [
    "data.Login_device.value_counts()"
   ]
  },
  {
   "cell_type": "markdown",
   "id": "9e58298d-6a39-41e3-a5c2-354670f6cbe1",
   "metadata": {},
   "source": [
    "<h4>Checking for null values after Variable transformation, handling missing and eleminating null values"
   ]
  },
  {
   "cell_type": "code",
   "execution_count": 230,
   "id": "e8fbbf9b-3138-494e-882f-4385a00a2346",
   "metadata": {},
   "outputs": [
    {
     "data": {
      "text/plain": [
       "Churn                      0\n",
       "Tenure                     0\n",
       "City_Tier                  0\n",
       "CC_Contacted_LY            0\n",
       "Payment                    0\n",
       "Gender                     0\n",
       "Service_Score              0\n",
       "Account_user_count         0\n",
       "account_segment            0\n",
       "CC_Agent_Score             0\n",
       "Marital_Status             0\n",
       "rev_per_month              0\n",
       "Complain_ly                0\n",
       "rev_growth_yoy             0\n",
       "coupon_used_for_payment    0\n",
       "Day_Since_CC_connect       0\n",
       "cashback                   0\n",
       "Login_device               0\n",
       "dtype: int64"
      ]
     },
     "execution_count": 230,
     "metadata": {},
     "output_type": "execute_result"
    }
   ],
   "source": [
    "data.isnull().sum()"
   ]
  },
  {
   "cell_type": "code",
   "execution_count": 232,
   "id": "043ddc7e-a32a-4efc-9c2b-66893e95b424",
   "metadata": {},
   "outputs": [
    {
     "data": {
      "text/html": [
       "<div>\n",
       "<style scoped>\n",
       "    .dataframe tbody tr th:only-of-type {\n",
       "        vertical-align: middle;\n",
       "    }\n",
       "\n",
       "    .dataframe tbody tr th {\n",
       "        vertical-align: top;\n",
       "    }\n",
       "\n",
       "    .dataframe thead th {\n",
       "        text-align: right;\n",
       "    }\n",
       "</style>\n",
       "<table border=\"1\" class=\"dataframe\">\n",
       "  <thead>\n",
       "    <tr style=\"text-align: right;\">\n",
       "      <th></th>\n",
       "      <th>count</th>\n",
       "      <th>mean</th>\n",
       "      <th>std</th>\n",
       "      <th>min</th>\n",
       "      <th>25%</th>\n",
       "      <th>50%</th>\n",
       "      <th>75%</th>\n",
       "      <th>max</th>\n",
       "    </tr>\n",
       "  </thead>\n",
       "  <tbody>\n",
       "    <tr>\n",
       "      <th>Churn</th>\n",
       "      <td>11260.00</td>\n",
       "      <td>0.17</td>\n",
       "      <td>0.37</td>\n",
       "      <td>0.00</td>\n",
       "      <td>0.00</td>\n",
       "      <td>0.00</td>\n",
       "      <td>0.00</td>\n",
       "      <td>1.00</td>\n",
       "    </tr>\n",
       "    <tr>\n",
       "      <th>Tenure</th>\n",
       "      <td>11260.00</td>\n",
       "      <td>10.83</td>\n",
       "      <td>12.83</td>\n",
       "      <td>0.00</td>\n",
       "      <td>2.00</td>\n",
       "      <td>8.00</td>\n",
       "      <td>16.00</td>\n",
       "      <td>99.00</td>\n",
       "    </tr>\n",
       "    <tr>\n",
       "      <th>City_Tier</th>\n",
       "      <td>11260.00</td>\n",
       "      <td>1.65</td>\n",
       "      <td>0.91</td>\n",
       "      <td>1.00</td>\n",
       "      <td>1.00</td>\n",
       "      <td>1.00</td>\n",
       "      <td>3.00</td>\n",
       "      <td>3.00</td>\n",
       "    </tr>\n",
       "    <tr>\n",
       "      <th>CC_Contacted_LY</th>\n",
       "      <td>11260.00</td>\n",
       "      <td>17.86</td>\n",
       "      <td>8.81</td>\n",
       "      <td>4.00</td>\n",
       "      <td>11.00</td>\n",
       "      <td>16.00</td>\n",
       "      <td>23.00</td>\n",
       "      <td>132.00</td>\n",
       "    </tr>\n",
       "    <tr>\n",
       "      <th>Service_Score</th>\n",
       "      <td>11260.00</td>\n",
       "      <td>2.90</td>\n",
       "      <td>0.72</td>\n",
       "      <td>0.00</td>\n",
       "      <td>2.00</td>\n",
       "      <td>3.00</td>\n",
       "      <td>3.00</td>\n",
       "      <td>5.00</td>\n",
       "    </tr>\n",
       "    <tr>\n",
       "      <th>Account_user_count</th>\n",
       "      <td>11260.00</td>\n",
       "      <td>3.70</td>\n",
       "      <td>1.00</td>\n",
       "      <td>1.00</td>\n",
       "      <td>3.00</td>\n",
       "      <td>4.00</td>\n",
       "      <td>4.00</td>\n",
       "      <td>6.00</td>\n",
       "    </tr>\n",
       "    <tr>\n",
       "      <th>CC_Agent_Score</th>\n",
       "      <td>11260.00</td>\n",
       "      <td>3.07</td>\n",
       "      <td>1.37</td>\n",
       "      <td>1.00</td>\n",
       "      <td>2.00</td>\n",
       "      <td>3.00</td>\n",
       "      <td>4.00</td>\n",
       "      <td>5.00</td>\n",
       "    </tr>\n",
       "    <tr>\n",
       "      <th>rev_per_month</th>\n",
       "      <td>11260.00</td>\n",
       "      <td>6.13</td>\n",
       "      <td>11.52</td>\n",
       "      <td>1.00</td>\n",
       "      <td>3.00</td>\n",
       "      <td>4.00</td>\n",
       "      <td>7.00</td>\n",
       "      <td>140.00</td>\n",
       "    </tr>\n",
       "    <tr>\n",
       "      <th>Complain_ly</th>\n",
       "      <td>11260.00</td>\n",
       "      <td>0.28</td>\n",
       "      <td>0.45</td>\n",
       "      <td>0.00</td>\n",
       "      <td>0.00</td>\n",
       "      <td>0.00</td>\n",
       "      <td>1.00</td>\n",
       "      <td>1.00</td>\n",
       "    </tr>\n",
       "    <tr>\n",
       "      <th>rev_growth_yoy</th>\n",
       "      <td>11260.00</td>\n",
       "      <td>16.19</td>\n",
       "      <td>3.76</td>\n",
       "      <td>4.00</td>\n",
       "      <td>13.00</td>\n",
       "      <td>15.00</td>\n",
       "      <td>19.00</td>\n",
       "      <td>28.00</td>\n",
       "    </tr>\n",
       "    <tr>\n",
       "      <th>coupon_used_for_payment</th>\n",
       "      <td>11260.00</td>\n",
       "      <td>1.79</td>\n",
       "      <td>1.97</td>\n",
       "      <td>0.00</td>\n",
       "      <td>1.00</td>\n",
       "      <td>1.00</td>\n",
       "      <td>2.00</td>\n",
       "      <td>16.00</td>\n",
       "    </tr>\n",
       "    <tr>\n",
       "      <th>Day_Since_CC_connect</th>\n",
       "      <td>11260.00</td>\n",
       "      <td>4.58</td>\n",
       "      <td>3.65</td>\n",
       "      <td>0.00</td>\n",
       "      <td>2.00</td>\n",
       "      <td>3.00</td>\n",
       "      <td>7.00</td>\n",
       "      <td>47.00</td>\n",
       "    </tr>\n",
       "    <tr>\n",
       "      <th>cashback</th>\n",
       "      <td>11260.00</td>\n",
       "      <td>194.38</td>\n",
       "      <td>175.09</td>\n",
       "      <td>0.00</td>\n",
       "      <td>147.89</td>\n",
       "      <td>163.17</td>\n",
       "      <td>197.31</td>\n",
       "      <td>1997.00</td>\n",
       "    </tr>\n",
       "  </tbody>\n",
       "</table>\n",
       "</div>"
      ],
      "text/plain": [
       "                           count   mean    std  min    25%    50%    75%  \\\n",
       "Churn                   11260.00   0.17   0.37 0.00   0.00   0.00   0.00   \n",
       "Tenure                  11260.00  10.83  12.83 0.00   2.00   8.00  16.00   \n",
       "City_Tier               11260.00   1.65   0.91 1.00   1.00   1.00   3.00   \n",
       "CC_Contacted_LY         11260.00  17.86   8.81 4.00  11.00  16.00  23.00   \n",
       "Service_Score           11260.00   2.90   0.72 0.00   2.00   3.00   3.00   \n",
       "Account_user_count      11260.00   3.70   1.00 1.00   3.00   4.00   4.00   \n",
       "CC_Agent_Score          11260.00   3.07   1.37 1.00   2.00   3.00   4.00   \n",
       "rev_per_month           11260.00   6.13  11.52 1.00   3.00   4.00   7.00   \n",
       "Complain_ly             11260.00   0.28   0.45 0.00   0.00   0.00   1.00   \n",
       "rev_growth_yoy          11260.00  16.19   3.76 4.00  13.00  15.00  19.00   \n",
       "coupon_used_for_payment 11260.00   1.79   1.97 0.00   1.00   1.00   2.00   \n",
       "Day_Since_CC_connect    11260.00   4.58   3.65 0.00   2.00   3.00   7.00   \n",
       "cashback                11260.00 194.38 175.09 0.00 147.89 163.17 197.31   \n",
       "\n",
       "                            max  \n",
       "Churn                      1.00  \n",
       "Tenure                    99.00  \n",
       "City_Tier                  3.00  \n",
       "CC_Contacted_LY          132.00  \n",
       "Service_Score              5.00  \n",
       "Account_user_count         6.00  \n",
       "CC_Agent_Score             5.00  \n",
       "rev_per_month            140.00  \n",
       "Complain_ly                1.00  \n",
       "rev_growth_yoy            28.00  \n",
       "coupon_used_for_payment   16.00  \n",
       "Day_Since_CC_connect      47.00  \n",
       "cashback                1997.00  "
      ]
     },
     "execution_count": 232,
     "metadata": {},
     "output_type": "execute_result"
    }
   ],
   "source": [
    "data.describe().T"
   ]
  },
  {
   "cell_type": "markdown",
   "id": "98d83398-ff57-4f96-988d-22a9d58d2488",
   "metadata": {},
   "source": [
    "### Univariate Analysis"
   ]
  },
  {
   "cell_type": "code",
   "execution_count": 234,
   "id": "3ae09eeb-99f6-482a-b6b6-a6912c3f24a4",
   "metadata": {},
   "outputs": [
    {
     "data": {
      "image/png": "[encoded data removed]",
      "text/plain": [
       "<Figure size 2300x500 with 12 Axes>"
      ]
     },
     "metadata": {},
     "output_type": "display_data"
    }
   ],
   "source": [
    "plt.figure(figsize=(23,5))\n",
    "plt.subplot(2, 6, 1)\n",
    "sns.distplot(data['Churn'])\n",
    "\n",
    "plt.subplot(2, 6, 2)\n",
    "sns.distplot(data['Tenure'])\n",
    "\n",
    "plt.subplot(2, 6, 3)\n",
    "sns.distplot(data['City_Tier'])\n",
    "\n",
    "plt.subplot(2, 6, 4)\n",
    "sns.distplot(data['CC_Contacted_LY'])\n",
    "\n",
    "plt.subplot(2, 6, 5)\n",
    "sns.distplot(data['Account_user_count'])\n",
    "\n",
    "plt.subplot(2, 6, 6)\n",
    "sns.distplot(data['CC_Agent_Score'])\n",
    "\n",
    "plt.subplot(2, 6, 7)\n",
    "sns.distplot(data['rev_per_month'])\n",
    "\n",
    "plt.subplot(2, 6, 8)\n",
    "sns.distplot(data['Complain_ly'])\n",
    "\n",
    "plt.subplot(2, 6, 9)\n",
    "sns.distplot(data['rev_growth_yoy'])\n",
    "\n",
    "plt.subplot(2, 6, 10)\n",
    "sns.distplot(data['coupon_used_for_payment'])\n",
    "\n",
    "plt.subplot(2, 6, 11)\n",
    "sns.distplot(data['Day_Since_CC_connect'])\n",
    "\n",
    "plt.subplot(2, 6, 12)\n",
    "sns.distplot(data['cashback'])\n",
    "\n",
    "plt.subplots_adjust(left=0.1,\n",
    "                    bottom=0.5,\n",
    "                    right=1,\n",
    "                    top=2,\n",
    "                    wspace=0.4,\n",
    "                    hspace=0.4)\n",
    "plt.show()"
   ]
  },
  {
   "cell_type": "code",
   "execution_count": 248,
   "id": "e85f786f-fc22-4e1e-b04f-17e34d3b87a4",
   "metadata": {},
   "outputs": [],
   "source": []
  },
  {
   "cell_type": "markdown",
   "id": "3fc919b7-bccc-472b-b144-03a3aa167349",
   "metadata": {},
   "source": [
    "Given below are the Categorical Variables:\n",
    "\n",
    "Payment<br>\n",
    "Gender<br>\n",
    "account_segment<br>\n",
    "Marital_Status<br>\n",
    "Login_device<br>"
   ]
  },
  {
   "cell_type": "code",
   "execution_count": 244,
   "id": "fa3c8c22-c4d8-4af5-8256-89f37d4360b9",
   "metadata": {},
   "outputs": [
    {
     "data": {
      "text/html": [
       "<div>\n",
       "<style scoped>\n",
       "    .dataframe tbody tr th:only-of-type {\n",
       "        vertical-align: middle;\n",
       "    }\n",
       "\n",
       "    .dataframe tbody tr th {\n",
       "        vertical-align: top;\n",
       "    }\n",
       "\n",
       "    .dataframe thead th {\n",
       "        text-align: right;\n",
       "    }\n",
       "</style>\n",
       "<table border=\"1\" class=\"dataframe\">\n",
       "  <thead>\n",
       "    <tr style=\"text-align: right;\">\n",
       "      <th></th>\n",
       "      <th>count</th>\n",
       "      <th>unique</th>\n",
       "      <th>top</th>\n",
       "      <th>freq</th>\n",
       "    </tr>\n",
       "  </thead>\n",
       "  <tbody>\n",
       "    <tr>\n",
       "      <th>Payment</th>\n",
       "      <td>11260</td>\n",
       "      <td>5</td>\n",
       "      <td>Debit Card</td>\n",
       "      <td>4696</td>\n",
       "    </tr>\n",
       "    <tr>\n",
       "      <th>Gender</th>\n",
       "      <td>11260</td>\n",
       "      <td>2</td>\n",
       "      <td>Male</td>\n",
       "      <td>6812</td>\n",
       "    </tr>\n",
       "    <tr>\n",
       "      <th>account_segment</th>\n",
       "      <td>11260</td>\n",
       "      <td>5</td>\n",
       "      <td>Super</td>\n",
       "      <td>4159</td>\n",
       "    </tr>\n",
       "    <tr>\n",
       "      <th>Marital_Status</th>\n",
       "      <td>11260</td>\n",
       "      <td>3</td>\n",
       "      <td>Married</td>\n",
       "      <td>6072</td>\n",
       "    </tr>\n",
       "    <tr>\n",
       "      <th>Login_device</th>\n",
       "      <td>11260</td>\n",
       "      <td>3</td>\n",
       "      <td>Mobile</td>\n",
       "      <td>7703</td>\n",
       "    </tr>\n",
       "  </tbody>\n",
       "</table>\n",
       "</div>"
      ],
      "text/plain": [
       "                 count unique         top  freq\n",
       "Payment          11260      5  Debit Card  4696\n",
       "Gender           11260      2        Male  6812\n",
       "account_segment  11260      5       Super  4159\n",
       "Marital_Status   11260      3     Married  6072\n",
       "Login_device     11260      3      Mobile  7703"
      ]
     },
     "execution_count": 244,
     "metadata": {},
     "output_type": "execute_result"
    }
   ],
   "source": [
    "# summary of the categorical variables\n",
    "\n",
    "data.describe(include=\"object\").T"
   ]
  },
  {
   "cell_type": "code",
   "execution_count": 250,
   "id": "f9e1b150-0c7a-44e5-a206-a8d74a761f88",
   "metadata": {},
   "outputs": [
    {
     "data": {
      "image/png": "[encoded data removed]",
      "text/plain": [
       "<Figure size 1000x500 with 1 Axes>"
      ]
     },
     "metadata": {},
     "output_type": "display_data"
    },
    {
     "data": {
      "image/png": "[encoded data removed]",
      "text/plain": [
       "<Figure size 1000x500 with 1 Axes>"
      ]
     },
     "metadata": {},
     "output_type": "display_data"
    },
    {
     "data": {
      "image/png": "[encoded data removed]",
      "text/plain": [
       "<Figure size 640x480 with 1 Axes>"
      ]
     },
     "metadata": {},
     "output_type": "display_data"
    }
   ],
   "source": [
    "import numpy as np\n",
    "import matplotlib.pyplot as plt\n",
    "import pandas as pd\n",
    "# plt.style.use(['unhcrpyplotstyle','pie'])\n",
    "\n",
    "plt.figure(figsize=(10,5))\n",
    "plt.title(\"Distribution of Tenure of the Customers on the platform\")\n",
    "sns.distplot(data['Tenure'])\n",
    "plt.subplots_adjust(left=0.1,\n",
    "                    bottom=0.1,\n",
    "                    right=0.9,\n",
    "                    top=1,\n",
    "                    wspace=0.4,\n",
    "                    hspace=0.4)\n",
    "\n",
    "#compute data for plotting\n",
    "labels = data['Payment'].unique()\n",
    "values = data.Payment.value_counts()\n",
    "\n",
    "#plot the chart\n",
    "fig, ax = plt.subplots()\n",
    "pie=ax.pie(values, labels=labels, autopct='%1.1f%%', pctdistance = 0.75, counterclock=False, startangle=-270)\n",
    "\n",
    "#set chart title\n",
    "ax.set_title('Payment')\n",
    "\n",
    "#set chart source and copyright\n",
    "plt.annotate('', (0,0), (0, -25), xycoords='axes fraction', textcoords='offset points', va='top', color = '#666666', fontsize=9)\n",
    "plt.annotate('', (0,0), (0, -35), xycoords='axes fraction', textcoords='offset points', va='top', color = '#666666', fontsize=9)\n",
    "\n",
    "#adjust chart margin and layout\n",
    "fig.tight_layout()\n",
    "\n",
    "#show chart\n",
    "plt.show()"
   ]
  },
  {
   "cell_type": "code",
   "execution_count": 252,
   "id": "53eeb98b-2dca-4d66-a327-994671c41b3f",
   "metadata": {},
   "outputs": [
    {
     "data": {
      "image/png": "[encoded data removed]",
      "text/plain": [
       "<Figure size 640x480 with 1 Axes>"
      ]
     },
     "metadata": {},
     "output_type": "display_data"
    }
   ],
   "source": [
    "import numpy as np\n",
    "import matplotlib.pyplot as plt\n",
    "import pandas as pd\n",
    "# plt.style.use(['unhcrpyplotstyle','pie'])\n",
    "\n",
    "\n",
    "\n",
    "#compute data for plotting\n",
    "labels = data['account_segment'].unique()\n",
    "values = data.account_segment.value_counts()\n",
    "\n",
    "#plot the chart\n",
    "fig, ax = plt.subplots()\n",
    "pie=ax.pie(values, labels=labels, autopct='%1.1f%%', pctdistance = 0.75, counterclock=False, startangle=-270)\n",
    "\n",
    "#set chart title\n",
    "ax.set_title('Account_segment')\n",
    "\n",
    "#set chart source and copyright\n",
    "plt.annotate('', (0,0), (0, -25), xycoords='axes fraction', textcoords='offset points', va='top', color = '#666666', fontsize=9)\n",
    "plt.annotate('', (0,0), (0, -35), xycoords='axes fraction', textcoords='offset points', va='top', color = '#666666', fontsize=9)\n",
    "\n",
    "#adjust chart margin and layout\n",
    "fig.tight_layout()\n",
    "\n",
    "#show chart\n",
    "plt.show()"
   ]
  },
  {
   "cell_type": "code",
   "execution_count": 254,
   "id": "ca926cb1-691f-487d-8534-d8afa3f31c7c",
   "metadata": {},
   "outputs": [
    {
     "data": {
      "image/png": "[encoded data removed]",
      "text/plain": [
       "<Figure size 640x480 with 1 Axes>"
      ]
     },
     "metadata": {},
     "output_type": "display_data"
    }
   ],
   "source": [
    "import numpy as np\n",
    "import matplotlib.pyplot as plt\n",
    "import pandas as pd\n",
    "# plt.style.use(['unhcrpyplotstyle','pie'])\n",
    "\n",
    "\n",
    "#compute data for plotting\n",
    "labels = data['Marital_Status'].unique()\n",
    "values = data.Marital_Status.value_counts()\n",
    "\n",
    "#plot the chart\n",
    "fig, ax = plt.subplots()\n",
    "pie=ax.pie(values, labels=labels, autopct='%1.1f%%', pctdistance = 0.75, counterclock=False, startangle=-270)\n",
    "\n",
    "#set chart title\n",
    "ax.set_title('Marital_Status')\n",
    "\n",
    "#set chart source and copyright\n",
    "plt.annotate('', (0,0), (0, -25), xycoords='axes fraction', textcoords='offset points', va='top', color = '#666666', fontsize=9)\n",
    "plt.annotate('', (0,0), (0, -35), xycoords='axes fraction', textcoords='offset points', va='top', color = '#666666', fontsize=9)\n",
    "\n",
    "#adjust chart margin and layout\n",
    "fig.tight_layout()\n",
    "\n",
    "#show chart\n",
    "plt.show()"
   ]
  },
  {
   "cell_type": "code",
   "execution_count": 256,
   "id": "7782a089-d8f2-42e5-9ff2-dea77b444dc9",
   "metadata": {},
   "outputs": [
    {
     "data": {
      "image/png": "[encoded data removed]",
      "text/plain": [
       "<Figure size 640x480 with 1 Axes>"
      ]
     },
     "metadata": {},
     "output_type": "display_data"
    }
   ],
   "source": [
    "import numpy as np\n",
    "import matplotlib.pyplot as plt\n",
    "import pandas as pd\n",
    "# plt.style.use(['unhcrpyplotstyle','pie'])\n",
    "\n",
    "\n",
    "\n",
    "#compute data for plotting\n",
    "labels = data['Login_device'].unique()\n",
    "values = data.Login_device.value_counts()\n",
    "\n",
    "#plot the chart\n",
    "fig, ax = plt.subplots()\n",
    "pie=ax.pie(values, labels=labels, autopct='%1.1f%%', pctdistance = 0.75, counterclock=False, startangle=-270)\n",
    "\n",
    "#set chart title\n",
    "ax.set_title('Login_device')\n",
    "\n",
    "#set chart source and copyright\n",
    "plt.annotate('', (0,0), (0, -25), xycoords='axes fraction', textcoords='offset points', va='top', color = '#666666', fontsize=9)\n",
    "plt.annotate('', (0,0), (0, -35), xycoords='axes fraction', textcoords='offset points', va='top', color = '#666666', fontsize=9)\n",
    "\n",
    "#adjust chart margin and layout\n",
    "fig.tight_layout()\n",
    "\n",
    "#show chart\n",
    "plt.show()"
   ]
  },
  {
   "cell_type": "markdown",
   "id": "be17e3cf-cf88-4040-9047-239bcc8789d0",
   "metadata": {},
   "source": [
    "### Bivariate Analysis"
   ]
  },
  {
   "cell_type": "code",
   "execution_count": 261,
   "id": "ca6e100c-2400-4a2c-84d1-a5d844969e94",
   "metadata": {},
   "outputs": [
    {
     "data": {
      "image/png": "[encoded data removed]",
      "text/plain": [
       "<Figure size 640x480 with 1 Axes>"
      ]
     },
     "metadata": {},
     "output_type": "display_data"
    }
   ],
   "source": [
    "# Defining a method to plot stacked bar plot\n",
    "\n",
    "\n",
    "def stacked_barplot(data, predictor, target):\n",
    "    \"\"\"\n",
    "    Print the category counts and plot a stacked bar chart\n",
    "    data : dataframe\n",
    "    predictor : independent variable\n",
    "    target : target variable\n",
    "\n",
    "    \"\"\"\n",
    "    count = data[predictor].nunique()\n",
    "    sorter = data[target].value_counts().index[-1]\n",
    "    tab1 = pd.crosstab(data[predictor], data[target], margins=True).sort_values(\n",
    "        by=sorter, ascending=False\n",
    "    )\n",
    "    print(tab1)\n",
    "    tab = pd.crosstab(data[predictor], data[target], normalize=\"index\").sort_values(\n",
    "        by=sorter, ascending=False\n",
    "    )\n",
    "    tab.plot(kind=\"bar\", stacked=True, figsize=(count + 3, 5))\n",
    "    plt.legend(loc=\"lower left\", frameon=False)\n",
    "    plt.legend(loc=\"lower left\", bbox_to_anchor=(1, 1))\n",
    "    plt.xticks(rotation=0)\n",
    "    plt.show()\n",
    "\n",
    "sns.countplot(x='Complain_ly', hue='Churn', palette='viridis', data=data)\n",
    "plt.title(\"Distribution of Satisfaction Score for Churned and Retained customers\")\n",
    "plt.show()"
   ]
  },
  {
   "cell_type": "code",
   "execution_count": 263,
   "id": "117491cc-6b66-461f-9093-36d6edcd5f8c",
   "metadata": {},
   "outputs": [
    {
     "name": "stdout",
     "output_type": "stream",
     "text": [
      "Churn      0     1    All\n",
      "Tenure                   \n",
      " All    9364  1896  11260\n",
      "1.00     851   718   1569\n",
      "0.00     562   669   1231\n",
      "3.00     367    43    410\n",
      "4.00     360    43    403\n",
      "7.00     418    32    450\n",
      "2.00     322    32    354\n",
      "20.00    187    30    217\n",
      "5.00     373    30    403\n",
      "8.00     490    29    519\n",
      "10.00    396    27    423\n",
      "14.00    320    25    345\n",
      "13.00    334    25    359\n",
      "99.00    107    24    131\n",
      "19.00    249    24    273\n",
      "9.00     475    21    496\n",
      "15.00    291    20    311\n",
      "21.00    150    20    170\n",
      "11.00    368    20    388\n",
      "16.00    272    19    291\n",
      "6.00     348    15    363\n",
      "12.00    347    13    360\n",
      "18.00    242    11    253\n",
      "17.00    209     6    215\n",
      "30.00    137     0    137\n",
      "61.00      2     0      2\n",
      "60.00      2     0      2\n",
      "51.00      2     0      2\n",
      "50.00      2     0      2\n",
      "31.00     96     0     96\n",
      "26.00    122     0    122\n",
      "29.00    114     0    114\n",
      "28.00    137     0    137\n",
      "27.00    131     0    131\n",
      "25.00    114     0    114\n",
      "24.00    147     0    147\n",
      "22.00    151     0    151\n",
      "23.00    169     0    169\n"
     ]
    },
    {
     "data": {
      "text/plain": [
       "<Figure size 1000x500 with 0 Axes>"
      ]
     },
     "metadata": {},
     "output_type": "display_data"
    },
    {
     "data": {
      "image/png": "[encoded data removed]",
      "text/plain": [
       "<Figure size 4000x500 with 1 Axes>"
      ]
     },
     "metadata": {},
     "output_type": "display_data"
    }
   ],
   "source": [
    "# 2. Target(Churn) vs Tenure\n",
    "#set chart title\n",
    "plt.figure(figsize=(10,5))\n",
    "stacked_barplot(data, \"Tenure\", \"Churn\")"
   ]
  },
  {
   "cell_type": "code",
   "execution_count": 269,
   "id": "aa806676-b64c-48ff-98dc-248bddeb2d56",
   "metadata": {},
   "outputs": [
    {
     "name": "stdout",
     "output_type": "stream",
     "text": [
      "Complain_ly  0.00  1.00    All\n",
      "Churn                         \n",
      "All          8149  3111  11260\n",
      "0            7241  2123   9364\n",
      "1             908   988   1896\n"
     ]
    },
    {
     "data": {
      "image/png": "[encoded data removed]",
      "text/plain": [
       "<Figure size 500x500 with 1 Axes>"
      ]
     },
     "metadata": {},
     "output_type": "display_data"
    }
   ],
   "source": [
    "# 3. Target(Churn) vs Complains in a year\n",
    "#set chart title\n",
    "\n",
    "stacked_barplot(data, \"Churn\", \"Complain_ly\")"
   ]
  },
  {
   "cell_type": "code",
   "execution_count": 271,
   "id": "51a818c4-5e45-414a-810d-45cc5cbdb423",
   "metadata": {},
   "outputs": [
    {
     "name": "stdout",
     "output_type": "stream",
     "text": [
      "Churn                0     1    All\n",
      "Payment                            \n",
      "All               9364  1896  11260\n",
      "Debit Card        3972   724   4696\n",
      "Credit Card       3012   499   3511\n",
      "E wallet           941   276   1217\n",
      "Cash on Delivery   760   254   1014\n",
      "UPI                679   143    822\n"
     ]
    },
    {
     "data": {
      "image/png": "[encoded data removed]",
      "text/plain": [
       "<Figure size 800x500 with 1 Axes>"
      ]
     },
     "metadata": {},
     "output_type": "display_data"
    }
   ],
   "source": [
    "# 4. Target(Churn) vs Payment\n",
    "stacked_barplot(data, \"Payment\", \"Churn\")"
   ]
  },
  {
   "cell_type": "code",
   "execution_count": 273,
   "id": "c9af5aee-c3a1-4708-bfaa-2294055e6a99",
   "metadata": {},
   "outputs": [
    {
     "name": "stdout",
     "output_type": "stream",
     "text": [
      "Churn            0     1    All\n",
      "Login_device                   \n",
      "All           9364  1896  11260\n",
      "Mobile        6489  1214   7703\n",
      "Computer      2421   597   3018\n",
      "others         454    85    539\n"
     ]
    },
    {
     "data": {
      "image/png": "[encoded data removed]",
      "text/plain": [
       "<Figure size 600x500 with 1 Axes>"
      ]
     },
     "metadata": {},
     "output_type": "display_data"
    }
   ],
   "source": [
    "# 5. Target(Churn) vs Login_device\n",
    "stacked_barplot(data, \"Login_device\", \"Churn\")"
   ]
  },
  {
   "cell_type": "code",
   "execution_count": 275,
   "id": "9582a5b9-c78d-457d-875c-78d3746645f5",
   "metadata": {},
   "outputs": [
    {
     "name": "stdout",
     "output_type": "stream",
     "text": [
      "Churn              0     1    All\n",
      "CC_Agent_Score                   \n",
      " All            9364  1896  11260\n",
      "3.00            2877   599   3476\n",
      "5.00            1669   522   2191\n",
      "4.00            1763   364   2127\n",
      "1.00            2038   264   2302\n",
      "2.00            1017   147   1164\n"
     ]
    },
    {
     "data": {
      "image/png": "[encoded data removed]",
      "text/plain": [
       "<Figure size 800x500 with 1 Axes>"
      ]
     },
     "metadata": {},
     "output_type": "display_data"
    }
   ],
   "source": [
    "stacked_barplot(data, \"CC_Agent_Score\", \"Churn\")"
   ]
  },
  {
   "cell_type": "code",
   "execution_count": 277,
   "id": "7c17407a-b995-4364-b431-051ca8758aac",
   "metadata": {},
   "outputs": [
    {
     "name": "stdout",
     "output_type": "stream",
     "text": [
      "Churn              0     1    All\n",
      "Marital_Status                   \n",
      "All             9364  1896  11260\n",
      "Single          2573   947   3520\n",
      "Married         5367   705   6072\n",
      "Divorced        1424   244   1668\n"
     ]
    },
    {
     "data": {
      "image/png": "[encoded data removed]",
      "text/plain": [
       "<Figure size 600x500 with 1 Axes>"
      ]
     },
     "metadata": {},
     "output_type": "display_data"
    }
   ],
   "source": [
    "stacked_barplot(data, \"Marital_Status\", \"Churn\")"
   ]
  },
  {
   "cell_type": "markdown",
   "id": "7dbe1c0c-97ce-4774-8532-baebbc1ba4d0",
   "metadata": {},
   "source": [
    "#### Reffer the other code file for Data Models used. This file is only for:\n",
    "1. Understanding the data\n",
    "2. Exploratory Data Analysis(EDA)\n",
    "3. Univariate and bivariate analysis"
   ]
  },
  {
   "cell_type": "code",
   "execution_count": null,
   "id": "1159eb2f-fb97-40fe-86e9-5047569ed2a8",
   "metadata": {},
   "outputs": [],
   "source": []
  }
 ],
 "metadata": {
  "kernelspec": {
   "display_name": "Python [conda env:base] *",
   "language": "python",
   "name": "conda-base-py"
  },
  "language_info": {
   "codemirror_mode": {
    "name": "ipython",
    "version": 3
   },
   "file_extension": ".py",
   "mimetype": "text/x-python",
   "name": "python",
   "nbconvert_exporter": "python",
   "pygments_lexer": "ipython3",
   "version": "3.12.7"
  }
 },
 "nbformat": 4,
 "nbformat_minor": 5
}
